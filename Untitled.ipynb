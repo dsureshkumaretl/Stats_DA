{
 "cells": [
  {
   "cell_type": "code",
   "execution_count": 1,
   "id": "21786a11",
   "metadata": {},
   "outputs": [],
   "source": [
    "dprt_dub <- read.csv(\"Departure.csv\")"
   ]
  },
  {
   "cell_type": "code",
   "execution_count": 2,
   "id": "5a54b8f1",
   "metadata": {},
   "outputs": [],
   "source": [
    "colnames(dprt_dub)[2]='departure'"
   ]
  },
  {
   "cell_type": "code",
   "execution_count": 3,
   "id": "b84f268a",
   "metadata": {},
   "outputs": [
    {
     "ename": "ERROR",
     "evalue": "Error in attr(x, \"tsp\") <- c(1, NROW(x), 1): invalid time series parameters specified\n",
     "output_type": "error",
     "traceback": [
      "Error in attr(x, \"tsp\") <- c(1, NROW(x), 1): invalid time series parameters specified\nTraceback:\n",
      "1. start(dprt_dub)",
      "2. start.default(dprt_dub)",
      "3. hasTsp(x)"
     ]
    }
   ],
   "source": [
    "start(dprt_dub)"
   ]
  },
  {
   "cell_type": "code",
   "execution_count": null,
   "id": "ed7fc7fe",
   "metadata": {},
   "outputs": [],
   "source": []
  }
 ],
 "metadata": {
  "kernelspec": {
   "display_name": "R",
   "language": "R",
   "name": "ir"
  },
  "language_info": {
   "codemirror_mode": "r",
   "file_extension": ".r",
   "mimetype": "text/x-r-source",
   "name": "R",
   "pygments_lexer": "r",
   "version": "4.2.1"
  }
 },
 "nbformat": 4,
 "nbformat_minor": 5
}
