{
 "cells": [
  {
   "cell_type": "code",
   "execution_count": 31,
   "id": "4b09b8a4",
   "metadata": {},
   "outputs": [],
   "source": [
    "library(readr)\n",
    "library(ggplot2)\n",
    "library(forecast)\n",
    "library(fpp2)\n",
    "library(TTR)\n",
    "library(dplyr)"
   ]
  },
  {
   "cell_type": "code",
   "execution_count": 32,
   "id": "31298e62",
   "metadata": {},
   "outputs": [
    {
     "name": "stderr",
     "output_type": "stream",
     "text": [
      "\u001b[1mRows: \u001b[22m\u001b[34m153\u001b[39m \u001b[1mColumns: \u001b[22m\u001b[34m2\u001b[39m\n",
      "\u001b[36m──\u001b[39m \u001b[1mColumn specification\u001b[22m \u001b[36m────────────────────────────────────────────────────────────────────────────────────────────────────────────────────────────────────────────────\u001b[39m\n",
      "\u001b[1mDelimiter:\u001b[22m \",\"\n",
      "\u001b[31mchr\u001b[39m (1): Month\n",
      "\u001b[32mdbl\u001b[39m (1): departures '000\n",
      "\n",
      "\u001b[36mℹ\u001b[39m Use `spec()` to retrieve the full column specification for this data.\n",
      "\u001b[36mℹ\u001b[39m Specify the column types or set `show_col_types = FALSE` to quiet this message.\n"
     ]
    },
    {
     "name": "stdout",
     "output_type": "stream",
     "text": [
      "Rows: 153\n",
      "Columns: 2\n",
      "$ Month             \u001b[3m\u001b[90m<chr>\u001b[39m\u001b[23m \"2010 January\", \"2010 February\", \"2010 March\", \"2010…\n",
      "$ `departures '000` \u001b[3m\u001b[90m<dbl>\u001b[39m\u001b[23m 732.4, 757.2, 919.6, 709.5, 977.9, 1183.1, 1269.5, 1…\n"
     ]
    }
   ],
   "source": [
    "dat <- read_csv(\"Departure.csv\")\n",
    "glimpse(dat)"
   ]
  },
  {
   "cell_type": "code",
   "execution_count": 33,
   "id": "b276de3d",
   "metadata": {},
   "outputs": [
    {
     "data": {
      "text/html": [
       "0"
      ],
      "text/latex": [
       "0"
      ],
      "text/markdown": [
       "0"
      ],
      "text/plain": [
       "[1] 0"
      ]
     },
     "metadata": {},
     "output_type": "display_data"
    }
   ],
   "source": [
    "sum(is.na(dat))"
   ]
  },
  {
   "cell_type": "code",
   "execution_count": 34,
   "id": "02b1c2d6",
   "metadata": {},
   "outputs": [],
   "source": [
    "colnames(dat)[2]='departure'"
   ]
  },
  {
   "cell_type": "code",
   "execution_count": 35,
   "id": "34893162",
   "metadata": {},
   "outputs": [],
   "source": [
    "#dprt_dub$year <- substr(dprt_dub$Month,1,4)\n",
    "dat$Date <- trimws(paste(substr(dat$Month,1,4),ifelse(\n",
    "nchar(match(substr(dat$Month,6,15), month.name))<2,\n",
    "paste('0',match(substr(dat$Month,6,15), month.name),sep=''),\n",
    "match(substr(dat$Month,6,15), month.name)\n",
    ")\n",
    ",sep=\"\"))"
   ]
  },
  {
   "cell_type": "code",
   "execution_count": 36,
   "id": "6bdffc6b",
   "metadata": {},
   "outputs": [],
   "source": [
    "##represent the data in (1000's)\n",
    "#dat$departure = dat$departure/1000"
   ]
  },
  {
   "cell_type": "code",
   "execution_count": 37,
   "id": "0130710a",
   "metadata": {},
   "outputs": [],
   "source": [
    "dat$Date<-as.Date(paste0(dat$Date, '01'), format='%Y%m%d')"
   ]
  },
  {
   "cell_type": "code",
   "execution_count": 38,
   "id": "44b919ec",
   "metadata": {},
   "outputs": [],
   "source": [
    "dat <- dat[,!names(dat) %in% c(\"Month\")]"
   ]
  },
  {
   "cell_type": "code",
   "execution_count": 39,
   "id": "5f6b9db3",
   "metadata": {},
   "outputs": [
    {
     "data": {
      "text/html": [
       "<table class=\"dataframe\">\n",
       "<caption>A tibble: 153 × 2</caption>\n",
       "<thead>\n",
       "\t<tr><th scope=col>departure</th><th scope=col>Date</th></tr>\n",
       "\t<tr><th scope=col>&lt;dbl&gt;</th><th scope=col>&lt;date&gt;</th></tr>\n",
       "</thead>\n",
       "<tbody>\n",
       "\t<tr><td> 732.4</td><td>2010-01-01</td></tr>\n",
       "\t<tr><td> 757.2</td><td>2010-02-01</td></tr>\n",
       "\t<tr><td> 919.6</td><td>2010-03-01</td></tr>\n",
       "\t<tr><td> 709.5</td><td>2010-04-01</td></tr>\n",
       "\t<tr><td> 977.9</td><td>2010-05-01</td></tr>\n",
       "\t<tr><td>1183.1</td><td>2010-06-01</td></tr>\n",
       "\t<tr><td>1269.5</td><td>2010-07-01</td></tr>\n",
       "\t<tr><td>1250.5</td><td>2010-08-01</td></tr>\n",
       "\t<tr><td>1078.7</td><td>2010-09-01</td></tr>\n",
       "\t<tr><td>1045.8</td><td>2010-10-01</td></tr>\n",
       "\t<tr><td> 800.7</td><td>2010-11-01</td></tr>\n",
       "\t<tr><td> 700.5</td><td>2010-12-01</td></tr>\n",
       "\t<tr><td> 729.6</td><td>2011-01-01</td></tr>\n",
       "\t<tr><td> 724.0</td><td>2011-02-01</td></tr>\n",
       "\t<tr><td> 869.6</td><td>2011-03-01</td></tr>\n",
       "\t<tr><td> 987.9</td><td>2011-04-01</td></tr>\n",
       "\t<tr><td>1084.2</td><td>2011-05-01</td></tr>\n",
       "\t<tr><td>1198.5</td><td>2011-06-01</td></tr>\n",
       "\t<tr><td>1288.0</td><td>2011-07-01</td></tr>\n",
       "\t<tr><td>1247.8</td><td>2011-08-01</td></tr>\n",
       "\t<tr><td>1070.3</td><td>2011-09-01</td></tr>\n",
       "\t<tr><td> 978.7</td><td>2011-10-01</td></tr>\n",
       "\t<tr><td> 774.3</td><td>2011-11-01</td></tr>\n",
       "\t<tr><td> 754.3</td><td>2011-12-01</td></tr>\n",
       "\t<tr><td> 700.5</td><td>2012-01-01</td></tr>\n",
       "\t<tr><td> 706.9</td><td>2012-02-01</td></tr>\n",
       "\t<tr><td> 874.8</td><td>2012-03-01</td></tr>\n",
       "\t<tr><td> 972.6</td><td>2012-04-01</td></tr>\n",
       "\t<tr><td>1089.6</td><td>2012-05-01</td></tr>\n",
       "\t<tr><td>1222.3</td><td>2012-06-01</td></tr>\n",
       "\t<tr><td>⋮</td><td>⋮</td></tr>\n",
       "\t<tr><td>  12.8</td><td>2020-04-01</td></tr>\n",
       "\t<tr><td>  24.7</td><td>2020-05-01</td></tr>\n",
       "\t<tr><td>  53.1</td><td>2020-06-01</td></tr>\n",
       "\t<tr><td> 239.0</td><td>2020-07-01</td></tr>\n",
       "\t<tr><td> 275.5</td><td>2020-08-01</td></tr>\n",
       "\t<tr><td> 203.5</td><td>2020-09-01</td></tr>\n",
       "\t<tr><td> 143.7</td><td>2020-10-01</td></tr>\n",
       "\t<tr><td>  85.1</td><td>2020-11-01</td></tr>\n",
       "\t<tr><td> 156.1</td><td>2020-12-01</td></tr>\n",
       "\t<tr><td> 104.1</td><td>2021-01-01</td></tr>\n",
       "\t<tr><td>  46.7</td><td>2021-02-01</td></tr>\n",
       "\t<tr><td>  57.5</td><td>2021-03-01</td></tr>\n",
       "\t<tr><td>  61.5</td><td>2021-04-01</td></tr>\n",
       "\t<tr><td>  82.4</td><td>2021-05-01</td></tr>\n",
       "\t<tr><td> 174.7</td><td>2021-06-01</td></tr>\n",
       "\t<tr><td> 384.0</td><td>2021-07-01</td></tr>\n",
       "\t<tr><td> 673.0</td><td>2021-08-01</td></tr>\n",
       "\t<tr><td> 716.6</td><td>2021-09-01</td></tr>\n",
       "\t<tr><td> 821.2</td><td>2021-10-01</td></tr>\n",
       "\t<tr><td> 749.7</td><td>2021-11-01</td></tr>\n",
       "\t<tr><td> 687.9</td><td>2021-12-01</td></tr>\n",
       "\t<tr><td> 528.4</td><td>2022-01-01</td></tr>\n",
       "\t<tr><td> 751.9</td><td>2022-02-01</td></tr>\n",
       "\t<tr><td>1014.7</td><td>2022-03-01</td></tr>\n",
       "\t<tr><td>1395.1</td><td>2022-04-01</td></tr>\n",
       "\t<tr><td>1499.1</td><td>2022-05-01</td></tr>\n",
       "\t<tr><td>1704.0</td><td>2022-06-01</td></tr>\n",
       "\t<tr><td>1788.2</td><td>2022-07-01</td></tr>\n",
       "\t<tr><td>1749.6</td><td>2022-08-01</td></tr>\n",
       "\t<tr><td>1592.2</td><td>2022-09-01</td></tr>\n",
       "</tbody>\n",
       "</table>\n"
      ],
      "text/latex": [
       "A tibble: 153 × 2\n",
       "\\begin{tabular}{ll}\n",
       " departure & Date\\\\\n",
       " <dbl> & <date>\\\\\n",
       "\\hline\n",
       "\t  732.4 & 2010-01-01\\\\\n",
       "\t  757.2 & 2010-02-01\\\\\n",
       "\t  919.6 & 2010-03-01\\\\\n",
       "\t  709.5 & 2010-04-01\\\\\n",
       "\t  977.9 & 2010-05-01\\\\\n",
       "\t 1183.1 & 2010-06-01\\\\\n",
       "\t 1269.5 & 2010-07-01\\\\\n",
       "\t 1250.5 & 2010-08-01\\\\\n",
       "\t 1078.7 & 2010-09-01\\\\\n",
       "\t 1045.8 & 2010-10-01\\\\\n",
       "\t  800.7 & 2010-11-01\\\\\n",
       "\t  700.5 & 2010-12-01\\\\\n",
       "\t  729.6 & 2011-01-01\\\\\n",
       "\t  724.0 & 2011-02-01\\\\\n",
       "\t  869.6 & 2011-03-01\\\\\n",
       "\t  987.9 & 2011-04-01\\\\\n",
       "\t 1084.2 & 2011-05-01\\\\\n",
       "\t 1198.5 & 2011-06-01\\\\\n",
       "\t 1288.0 & 2011-07-01\\\\\n",
       "\t 1247.8 & 2011-08-01\\\\\n",
       "\t 1070.3 & 2011-09-01\\\\\n",
       "\t  978.7 & 2011-10-01\\\\\n",
       "\t  774.3 & 2011-11-01\\\\\n",
       "\t  754.3 & 2011-12-01\\\\\n",
       "\t  700.5 & 2012-01-01\\\\\n",
       "\t  706.9 & 2012-02-01\\\\\n",
       "\t  874.8 & 2012-03-01\\\\\n",
       "\t  972.6 & 2012-04-01\\\\\n",
       "\t 1089.6 & 2012-05-01\\\\\n",
       "\t 1222.3 & 2012-06-01\\\\\n",
       "\t ⋮ & ⋮\\\\\n",
       "\t   12.8 & 2020-04-01\\\\\n",
       "\t   24.7 & 2020-05-01\\\\\n",
       "\t   53.1 & 2020-06-01\\\\\n",
       "\t  239.0 & 2020-07-01\\\\\n",
       "\t  275.5 & 2020-08-01\\\\\n",
       "\t  203.5 & 2020-09-01\\\\\n",
       "\t  143.7 & 2020-10-01\\\\\n",
       "\t   85.1 & 2020-11-01\\\\\n",
       "\t  156.1 & 2020-12-01\\\\\n",
       "\t  104.1 & 2021-01-01\\\\\n",
       "\t   46.7 & 2021-02-01\\\\\n",
       "\t   57.5 & 2021-03-01\\\\\n",
       "\t   61.5 & 2021-04-01\\\\\n",
       "\t   82.4 & 2021-05-01\\\\\n",
       "\t  174.7 & 2021-06-01\\\\\n",
       "\t  384.0 & 2021-07-01\\\\\n",
       "\t  673.0 & 2021-08-01\\\\\n",
       "\t  716.6 & 2021-09-01\\\\\n",
       "\t  821.2 & 2021-10-01\\\\\n",
       "\t  749.7 & 2021-11-01\\\\\n",
       "\t  687.9 & 2021-12-01\\\\\n",
       "\t  528.4 & 2022-01-01\\\\\n",
       "\t  751.9 & 2022-02-01\\\\\n",
       "\t 1014.7 & 2022-03-01\\\\\n",
       "\t 1395.1 & 2022-04-01\\\\\n",
       "\t 1499.1 & 2022-05-01\\\\\n",
       "\t 1704.0 & 2022-06-01\\\\\n",
       "\t 1788.2 & 2022-07-01\\\\\n",
       "\t 1749.6 & 2022-08-01\\\\\n",
       "\t 1592.2 & 2022-09-01\\\\\n",
       "\\end{tabular}\n"
      ],
      "text/markdown": [
       "\n",
       "A tibble: 153 × 2\n",
       "\n",
       "| departure &lt;dbl&gt; | Date &lt;date&gt; |\n",
       "|---|---|\n",
       "|  732.4 | 2010-01-01 |\n",
       "|  757.2 | 2010-02-01 |\n",
       "|  919.6 | 2010-03-01 |\n",
       "|  709.5 | 2010-04-01 |\n",
       "|  977.9 | 2010-05-01 |\n",
       "| 1183.1 | 2010-06-01 |\n",
       "| 1269.5 | 2010-07-01 |\n",
       "| 1250.5 | 2010-08-01 |\n",
       "| 1078.7 | 2010-09-01 |\n",
       "| 1045.8 | 2010-10-01 |\n",
       "|  800.7 | 2010-11-01 |\n",
       "|  700.5 | 2010-12-01 |\n",
       "|  729.6 | 2011-01-01 |\n",
       "|  724.0 | 2011-02-01 |\n",
       "|  869.6 | 2011-03-01 |\n",
       "|  987.9 | 2011-04-01 |\n",
       "| 1084.2 | 2011-05-01 |\n",
       "| 1198.5 | 2011-06-01 |\n",
       "| 1288.0 | 2011-07-01 |\n",
       "| 1247.8 | 2011-08-01 |\n",
       "| 1070.3 | 2011-09-01 |\n",
       "|  978.7 | 2011-10-01 |\n",
       "|  774.3 | 2011-11-01 |\n",
       "|  754.3 | 2011-12-01 |\n",
       "|  700.5 | 2012-01-01 |\n",
       "|  706.9 | 2012-02-01 |\n",
       "|  874.8 | 2012-03-01 |\n",
       "|  972.6 | 2012-04-01 |\n",
       "| 1089.6 | 2012-05-01 |\n",
       "| 1222.3 | 2012-06-01 |\n",
       "| ⋮ | ⋮ |\n",
       "|   12.8 | 2020-04-01 |\n",
       "|   24.7 | 2020-05-01 |\n",
       "|   53.1 | 2020-06-01 |\n",
       "|  239.0 | 2020-07-01 |\n",
       "|  275.5 | 2020-08-01 |\n",
       "|  203.5 | 2020-09-01 |\n",
       "|  143.7 | 2020-10-01 |\n",
       "|   85.1 | 2020-11-01 |\n",
       "|  156.1 | 2020-12-01 |\n",
       "|  104.1 | 2021-01-01 |\n",
       "|   46.7 | 2021-02-01 |\n",
       "|   57.5 | 2021-03-01 |\n",
       "|   61.5 | 2021-04-01 |\n",
       "|   82.4 | 2021-05-01 |\n",
       "|  174.7 | 2021-06-01 |\n",
       "|  384.0 | 2021-07-01 |\n",
       "|  673.0 | 2021-08-01 |\n",
       "|  716.6 | 2021-09-01 |\n",
       "|  821.2 | 2021-10-01 |\n",
       "|  749.7 | 2021-11-01 |\n",
       "|  687.9 | 2021-12-01 |\n",
       "|  528.4 | 2022-01-01 |\n",
       "|  751.9 | 2022-02-01 |\n",
       "| 1014.7 | 2022-03-01 |\n",
       "| 1395.1 | 2022-04-01 |\n",
       "| 1499.1 | 2022-05-01 |\n",
       "| 1704.0 | 2022-06-01 |\n",
       "| 1788.2 | 2022-07-01 |\n",
       "| 1749.6 | 2022-08-01 |\n",
       "| 1592.2 | 2022-09-01 |\n",
       "\n"
      ],
      "text/plain": [
       "    departure Date      \n",
       "1    732.4    2010-01-01\n",
       "2    757.2    2010-02-01\n",
       "3    919.6    2010-03-01\n",
       "4    709.5    2010-04-01\n",
       "5    977.9    2010-05-01\n",
       "6   1183.1    2010-06-01\n",
       "7   1269.5    2010-07-01\n",
       "8   1250.5    2010-08-01\n",
       "9   1078.7    2010-09-01\n",
       "10  1045.8    2010-10-01\n",
       "11   800.7    2010-11-01\n",
       "12   700.5    2010-12-01\n",
       "13   729.6    2011-01-01\n",
       "14   724.0    2011-02-01\n",
       "15   869.6    2011-03-01\n",
       "16   987.9    2011-04-01\n",
       "17  1084.2    2011-05-01\n",
       "18  1198.5    2011-06-01\n",
       "19  1288.0    2011-07-01\n",
       "20  1247.8    2011-08-01\n",
       "21  1070.3    2011-09-01\n",
       "22   978.7    2011-10-01\n",
       "23   774.3    2011-11-01\n",
       "24   754.3    2011-12-01\n",
       "25   700.5    2012-01-01\n",
       "26   706.9    2012-02-01\n",
       "27   874.8    2012-03-01\n",
       "28   972.6    2012-04-01\n",
       "29  1089.6    2012-05-01\n",
       "30  1222.3    2012-06-01\n",
       "⋮   ⋮         ⋮         \n",
       "124   12.8    2020-04-01\n",
       "125   24.7    2020-05-01\n",
       "126   53.1    2020-06-01\n",
       "127  239.0    2020-07-01\n",
       "128  275.5    2020-08-01\n",
       "129  203.5    2020-09-01\n",
       "130  143.7    2020-10-01\n",
       "131   85.1    2020-11-01\n",
       "132  156.1    2020-12-01\n",
       "133  104.1    2021-01-01\n",
       "134   46.7    2021-02-01\n",
       "135   57.5    2021-03-01\n",
       "136   61.5    2021-04-01\n",
       "137   82.4    2021-05-01\n",
       "138  174.7    2021-06-01\n",
       "139  384.0    2021-07-01\n",
       "140  673.0    2021-08-01\n",
       "141  716.6    2021-09-01\n",
       "142  821.2    2021-10-01\n",
       "143  749.7    2021-11-01\n",
       "144  687.9    2021-12-01\n",
       "145  528.4    2022-01-01\n",
       "146  751.9    2022-02-01\n",
       "147 1014.7    2022-03-01\n",
       "148 1395.1    2022-04-01\n",
       "149 1499.1    2022-05-01\n",
       "150 1704.0    2022-06-01\n",
       "151 1788.2    2022-07-01\n",
       "152 1749.6    2022-08-01\n",
       "153 1592.2    2022-09-01"
      ]
     },
     "metadata": {},
     "output_type": "display_data"
    }
   ],
   "source": [
    "dat"
   ]
  },
  {
   "cell_type": "code",
   "execution_count": 40,
   "id": "cad5f9db",
   "metadata": {},
   "outputs": [],
   "source": [
    "dat_ts <- ts(dat[, 1], start = c(2010, 1), end = c(2022, 12), frequency = 12)\n",
    " \n",
    "#lines 2 to 4\n",
    "mape <- function(actual,pred){\n",
    "  mape <- mean(abs((actual - pred)/actual))*100\n",
    "  return (mape)\n",
    "}"
   ]
  },
  {
   "cell_type": "code",
   "execution_count": 41,
   "id": "5f0b897e",
   "metadata": {},
   "outputs": [
    {
     "data": {
      "text/html": [
       "<table class=\"dataframe\">\n",
       "<caption>A Time Series: 13 × 12</caption>\n",
       "<thead>\n",
       "\t<tr><th></th><th scope=col>Jan</th><th scope=col>Feb</th><th scope=col>Mar</th><th scope=col>Apr</th><th scope=col>May</th><th scope=col>Jun</th><th scope=col>Jul</th><th scope=col>Aug</th><th scope=col>Sep</th><th scope=col>Oct</th><th scope=col>Nov</th><th scope=col>Dec</th></tr>\n",
       "</thead>\n",
       "<tbody>\n",
       "\t<tr><th scope=row>2010</th><td> 732.4</td><td> 757.2</td><td> 919.6</td><td> 709.5</td><td> 977.9</td><td>1183.1</td><td>1269.5</td><td>1250.5</td><td>1078.7</td><td>1045.8</td><td> 800.7</td><td> 700.5</td></tr>\n",
       "\t<tr><th scope=row>2011</th><td> 729.6</td><td> 724.0</td><td> 869.6</td><td> 987.9</td><td>1084.2</td><td>1198.5</td><td>1288.0</td><td>1247.8</td><td>1070.3</td><td> 978.7</td><td> 774.3</td><td> 754.3</td></tr>\n",
       "\t<tr><th scope=row>2012</th><td> 700.5</td><td> 706.9</td><td> 874.8</td><td> 972.6</td><td>1089.6</td><td>1222.3</td><td>1278.8</td><td>1244.2</td><td>1122.1</td><td>1041.3</td><td> 804.1</td><td> 782.4</td></tr>\n",
       "\t<tr><th scope=row>2013</th><td> 709.5</td><td> 698.7</td><td> 937.3</td><td> 972.3</td><td>1160.2</td><td>1292.1</td><td>1336.7</td><td>1314.3</td><td>1144.2</td><td>1079.9</td><td> 836.5</td><td> 832.7</td></tr>\n",
       "\t<tr><th scope=row>2014</th><td> 764.7</td><td> 742.8</td><td> 892.5</td><td>1112.7</td><td>1223.8</td><td>1361.8</td><td>1418.4</td><td>1403.9</td><td>1231.2</td><td>1179.9</td><td> 925.4</td><td> 912.3</td></tr>\n",
       "\t<tr><th scope=row>2015</th><td> 861.5</td><td> 850.3</td><td>1063.4</td><td>1178.5</td><td>1359.9</td><td>1541.7</td><td>1600.0</td><td>1552.5</td><td>1368.8</td><td>1339.8</td><td>1055.4</td><td>1018.6</td></tr>\n",
       "\t<tr><th scope=row>2016</th><td> 981.7</td><td> 989.0</td><td>1236.5</td><td>1282.8</td><td>1475.7</td><td>1684.6</td><td>1738.7</td><td>1688.9</td><td>1498.6</td><td>1462.3</td><td>1134.9</td><td>1145.3</td></tr>\n",
       "\t<tr><th scope=row>2017</th><td>1057.1</td><td>1020.2</td><td>1227.7</td><td>1438.7</td><td>1530.6</td><td>1761.5</td><td>1828.6</td><td>1778.1</td><td>1583.6</td><td>1505.9</td><td>1203.5</td><td>1204.3</td></tr>\n",
       "\t<tr><th scope=row>2018</th><td>1115.6</td><td>1047.3</td><td>1294.6</td><td>1473.8</td><td>1687.4</td><td>1879.0</td><td>1932.0</td><td>1865.2</td><td>1691.0</td><td>1624.9</td><td>1284.0</td><td>1285.7</td></tr>\n",
       "\t<tr><th scope=row>2019</th><td>1169.3</td><td>1139.1</td><td>1375.4</td><td>1622.6</td><td>1744.0</td><td>1933.4</td><td>2006.9</td><td>1967.5</td><td>1757.4</td><td>1660.1</td><td>1279.1</td><td>1320.2</td></tr>\n",
       "\t<tr><th scope=row>2020</th><td>1183.5</td><td>1161.9</td><td> 575.6</td><td>  12.8</td><td>  24.7</td><td>  53.1</td><td> 239.0</td><td> 275.5</td><td> 203.5</td><td> 143.7</td><td>  85.1</td><td> 156.1</td></tr>\n",
       "\t<tr><th scope=row>2021</th><td> 104.1</td><td>  46.7</td><td>  57.5</td><td>  61.5</td><td>  82.4</td><td> 174.7</td><td> 384.0</td><td> 673.0</td><td> 716.6</td><td> 821.2</td><td> 749.7</td><td> 687.9</td></tr>\n",
       "\t<tr><th scope=row>2022</th><td> 528.4</td><td> 751.9</td><td>1014.7</td><td>1395.1</td><td>1499.1</td><td>1704.0</td><td>1788.2</td><td>1749.6</td><td>1592.2</td><td> 732.4</td><td> 757.2</td><td> 919.6</td></tr>\n",
       "</tbody>\n",
       "</table>\n"
      ],
      "text/latex": [
       "A Time Series: 13 × 12\n",
       "\\begin{tabular}{r|llllllllllll}\n",
       "  & Jan & Feb & Mar & Apr & May & Jun & Jul & Aug & Sep & Oct & Nov & Dec\\\\\n",
       "\\hline\n",
       "\t2010 &  732.4 &  757.2 &  919.6 &  709.5 &  977.9 & 1183.1 & 1269.5 & 1250.5 & 1078.7 & 1045.8 &  800.7 &  700.5\\\\\n",
       "\t2011 &  729.6 &  724.0 &  869.6 &  987.9 & 1084.2 & 1198.5 & 1288.0 & 1247.8 & 1070.3 &  978.7 &  774.3 &  754.3\\\\\n",
       "\t2012 &  700.5 &  706.9 &  874.8 &  972.6 & 1089.6 & 1222.3 & 1278.8 & 1244.2 & 1122.1 & 1041.3 &  804.1 &  782.4\\\\\n",
       "\t2013 &  709.5 &  698.7 &  937.3 &  972.3 & 1160.2 & 1292.1 & 1336.7 & 1314.3 & 1144.2 & 1079.9 &  836.5 &  832.7\\\\\n",
       "\t2014 &  764.7 &  742.8 &  892.5 & 1112.7 & 1223.8 & 1361.8 & 1418.4 & 1403.9 & 1231.2 & 1179.9 &  925.4 &  912.3\\\\\n",
       "\t2015 &  861.5 &  850.3 & 1063.4 & 1178.5 & 1359.9 & 1541.7 & 1600.0 & 1552.5 & 1368.8 & 1339.8 & 1055.4 & 1018.6\\\\\n",
       "\t2016 &  981.7 &  989.0 & 1236.5 & 1282.8 & 1475.7 & 1684.6 & 1738.7 & 1688.9 & 1498.6 & 1462.3 & 1134.9 & 1145.3\\\\\n",
       "\t2017 & 1057.1 & 1020.2 & 1227.7 & 1438.7 & 1530.6 & 1761.5 & 1828.6 & 1778.1 & 1583.6 & 1505.9 & 1203.5 & 1204.3\\\\\n",
       "\t2018 & 1115.6 & 1047.3 & 1294.6 & 1473.8 & 1687.4 & 1879.0 & 1932.0 & 1865.2 & 1691.0 & 1624.9 & 1284.0 & 1285.7\\\\\n",
       "\t2019 & 1169.3 & 1139.1 & 1375.4 & 1622.6 & 1744.0 & 1933.4 & 2006.9 & 1967.5 & 1757.4 & 1660.1 & 1279.1 & 1320.2\\\\\n",
       "\t2020 & 1183.5 & 1161.9 &  575.6 &   12.8 &   24.7 &   53.1 &  239.0 &  275.5 &  203.5 &  143.7 &   85.1 &  156.1\\\\\n",
       "\t2021 &  104.1 &   46.7 &   57.5 &   61.5 &   82.4 &  174.7 &  384.0 &  673.0 &  716.6 &  821.2 &  749.7 &  687.9\\\\\n",
       "\t2022 &  528.4 &  751.9 & 1014.7 & 1395.1 & 1499.1 & 1704.0 & 1788.2 & 1749.6 & 1592.2 &  732.4 &  757.2 &  919.6\\\\\n",
       "\\end{tabular}\n"
      ],
      "text/markdown": [
       "\n",
       "A Time Series: 13 × 12\n",
       "\n",
       "| <!--/--> | Jan | Feb | Mar | Apr | May | Jun | Jul | Aug | Sep | Oct | Nov | Dec |\n",
       "|---|---|---|---|---|---|---|---|---|---|---|---|---|\n",
       "| 2010 |  732.4 |  757.2 |  919.6 |  709.5 |  977.9 | 1183.1 | 1269.5 | 1250.5 | 1078.7 | 1045.8 |  800.7 |  700.5 |\n",
       "| 2011 |  729.6 |  724.0 |  869.6 |  987.9 | 1084.2 | 1198.5 | 1288.0 | 1247.8 | 1070.3 |  978.7 |  774.3 |  754.3 |\n",
       "| 2012 |  700.5 |  706.9 |  874.8 |  972.6 | 1089.6 | 1222.3 | 1278.8 | 1244.2 | 1122.1 | 1041.3 |  804.1 |  782.4 |\n",
       "| 2013 |  709.5 |  698.7 |  937.3 |  972.3 | 1160.2 | 1292.1 | 1336.7 | 1314.3 | 1144.2 | 1079.9 |  836.5 |  832.7 |\n",
       "| 2014 |  764.7 |  742.8 |  892.5 | 1112.7 | 1223.8 | 1361.8 | 1418.4 | 1403.9 | 1231.2 | 1179.9 |  925.4 |  912.3 |\n",
       "| 2015 |  861.5 |  850.3 | 1063.4 | 1178.5 | 1359.9 | 1541.7 | 1600.0 | 1552.5 | 1368.8 | 1339.8 | 1055.4 | 1018.6 |\n",
       "| 2016 |  981.7 |  989.0 | 1236.5 | 1282.8 | 1475.7 | 1684.6 | 1738.7 | 1688.9 | 1498.6 | 1462.3 | 1134.9 | 1145.3 |\n",
       "| 2017 | 1057.1 | 1020.2 | 1227.7 | 1438.7 | 1530.6 | 1761.5 | 1828.6 | 1778.1 | 1583.6 | 1505.9 | 1203.5 | 1204.3 |\n",
       "| 2018 | 1115.6 | 1047.3 | 1294.6 | 1473.8 | 1687.4 | 1879.0 | 1932.0 | 1865.2 | 1691.0 | 1624.9 | 1284.0 | 1285.7 |\n",
       "| 2019 | 1169.3 | 1139.1 | 1375.4 | 1622.6 | 1744.0 | 1933.4 | 2006.9 | 1967.5 | 1757.4 | 1660.1 | 1279.1 | 1320.2 |\n",
       "| 2020 | 1183.5 | 1161.9 |  575.6 |   12.8 |   24.7 |   53.1 |  239.0 |  275.5 |  203.5 |  143.7 |   85.1 |  156.1 |\n",
       "| 2021 |  104.1 |   46.7 |   57.5 |   61.5 |   82.4 |  174.7 |  384.0 |  673.0 |  716.6 |  821.2 |  749.7 |  687.9 |\n",
       "| 2022 |  528.4 |  751.9 | 1014.7 | 1395.1 | 1499.1 | 1704.0 | 1788.2 | 1749.6 | 1592.2 |  732.4 |  757.2 |  919.6 |\n",
       "\n"
      ],
      "text/plain": [
       "     Jan    Feb    Mar    Apr    May    Jun    Jul    Aug    Sep    Oct   \n",
       "2010  732.4  757.2  919.6  709.5  977.9 1183.1 1269.5 1250.5 1078.7 1045.8\n",
       "2011  729.6  724.0  869.6  987.9 1084.2 1198.5 1288.0 1247.8 1070.3  978.7\n",
       "2012  700.5  706.9  874.8  972.6 1089.6 1222.3 1278.8 1244.2 1122.1 1041.3\n",
       "2013  709.5  698.7  937.3  972.3 1160.2 1292.1 1336.7 1314.3 1144.2 1079.9\n",
       "2014  764.7  742.8  892.5 1112.7 1223.8 1361.8 1418.4 1403.9 1231.2 1179.9\n",
       "2015  861.5  850.3 1063.4 1178.5 1359.9 1541.7 1600.0 1552.5 1368.8 1339.8\n",
       "2016  981.7  989.0 1236.5 1282.8 1475.7 1684.6 1738.7 1688.9 1498.6 1462.3\n",
       "2017 1057.1 1020.2 1227.7 1438.7 1530.6 1761.5 1828.6 1778.1 1583.6 1505.9\n",
       "2018 1115.6 1047.3 1294.6 1473.8 1687.4 1879.0 1932.0 1865.2 1691.0 1624.9\n",
       "2019 1169.3 1139.1 1375.4 1622.6 1744.0 1933.4 2006.9 1967.5 1757.4 1660.1\n",
       "2020 1183.5 1161.9  575.6   12.8   24.7   53.1  239.0  275.5  203.5  143.7\n",
       "2021  104.1   46.7   57.5   61.5   82.4  174.7  384.0  673.0  716.6  821.2\n",
       "2022  528.4  751.9 1014.7 1395.1 1499.1 1704.0 1788.2 1749.6 1592.2  732.4\n",
       "     Nov    Dec   \n",
       "2010  800.7  700.5\n",
       "2011  774.3  754.3\n",
       "2012  804.1  782.4\n",
       "2013  836.5  832.7\n",
       "2014  925.4  912.3\n",
       "2015 1055.4 1018.6\n",
       "2016 1134.9 1145.3\n",
       "2017 1203.5 1204.3\n",
       "2018 1284.0 1285.7\n",
       "2019 1279.1 1320.2\n",
       "2020   85.1  156.1\n",
       "2021  749.7  687.9\n",
       "2022  757.2  919.6"
      ]
     },
     "metadata": {},
     "output_type": "display_data"
    }
   ],
   "source": [
    "dat_ts"
   ]
  },
  {
   "cell_type": "code",
   "execution_count": 42,
   "id": "d70e90e7",
   "metadata": {},
   "outputs": [
    {
     "data": {
      "image/png": "[encoded data removed]",
      "text/plain": [
       "plot without title"
      ]
     },
     "metadata": {
      "image/png": {
       "height": 420,
       "width": 420
      }
     },
     "output_type": "display_data"
    }
   ],
   "source": [
    "components_dfts <- decompose(dat_ts)\n",
    "plot(components_dfts)"
   ]
  },
  {
   "cell_type": "code",
   "execution_count": 43,
   "id": "d64354f9",
   "metadata": {},
   "outputs": [],
   "source": [
    "DepLinMod <- lm(dat_ts~time(dat_ts))"
   ]
  },
  {
   "cell_type": "code",
   "execution_count": 44,
   "id": "e1731357",
   "metadata": {},
   "outputs": [
    {
     "data": {
      "image/png": "[encoded data removed]",
      "text/plain": [
       "plot without title"
      ]
     },
     "metadata": {
      "image/png": {
       "height": 420,
       "width": 420
      }
     },
     "output_type": "display_data"
    }
   ],
   "source": [
    "plot(dat_ts, col='blue')\n",
    "x <- as.vector(time(dat_ts))\n",
    "y <- predict.lm(DepLinMod)\n",
    "lines(x, y, col='red', lw=4)"
   ]
  },
  {
   "cell_type": "code",
   "execution_count": 45,
   "id": "d2f90d83",
   "metadata": {},
   "outputs": [
    {
     "data": {
      "image/png": "[encoded data removed]",
      "text/plain": [
       "Plot with title \"\""
      ]
     },
     "metadata": {
      "image/png": {
       "height": 420,
       "width": 420
      }
     },
     "output_type": "display_data"
    }
   ],
   "source": [
    "par(mfrow=c(2,2))\n",
    "plot(DepLinMod)"
   ]
  },
  {
   "cell_type": "code",
   "execution_count": 46,
   "id": "7016d6ad",
   "metadata": {},
   "outputs": [],
   "source": [
    "lg_Dpt <- log(dat_ts)"
   ]
  },
  {
   "cell_type": "code",
   "execution_count": 47,
   "id": "bf609837",
   "metadata": {},
   "outputs": [],
   "source": [
    "DptLogMod <- lm(lg_Dpt~time(dat_ts))"
   ]
  },
  {
   "cell_type": "code",
   "execution_count": 48,
   "id": "0b90ecb5",
   "metadata": {},
   "outputs": [
    {
     "data": {
      "image/png": "[encoded data removed]",
      "text/plain": [
       "plot without title"
      ]
     },
     "metadata": {
      "image/png": {
       "height": 420,
       "width": 420
      }
     },
     "output_type": "display_data"
    }
   ],
   "source": [
    "plot(lg_Dpt, col='blue')\n",
    "x <- as.vector(time(dat_ts))\n",
    "y <- predict.lm(DptLogMod)\n",
    "lines(x, y, col='red', lw=4)"
   ]
  },
  {
   "cell_type": "code",
   "execution_count": 53,
   "id": "5d7e2c45",
   "metadata": {},
   "outputs": [
    {
     "name": "stdout",
     "output_type": "stream",
     "text": [
      "tibble [153 × 2] (S3: tbl_df/tbl/data.frame)\n",
      " $ departure: num [1:153] 732 757 920 710 978 ...\n",
      " $ Date     : Date[1:153], format: \"2010-01-01\" \"2010-02-01\" ...\n"
     ]
    },
    {
     "data": {
      "image/png": "[encoded data removed]",
      "text/plain": [
       "plot without title"
      ]
     },
     "metadata": {
      "image/png": {
       "height": 420,
       "width": 420
      }
     },
     "output_type": "display_data"
    }
   ],
   "source": [
    "str(dat)\n",
    "plot(dat$Date, dat$departure)\n",
    "lines(lowess(dat$Date, dat$departure), col='red')\n"
   ]
  },
  {
   "cell_type": "code",
   "execution_count": 54,
   "id": "0161e62e",
   "metadata": {},
   "outputs": [
    {
     "data": {
      "image/png": "[encoded data removed]",
      "text/plain": [
       "plot without title"
      ]
     },
     "metadata": {
      "image/png": {
       "height": 420,
       "width": 420
      }
     },
     "output_type": "display_data"
    }
   ],
   "source": [
    "HW1 <- HoltWinters(dat_ts)\n",
    "# Custom HoltWinters fitting\n",
    "HW2 <- HoltWinters(dat_ts, alpha=0.2, beta=0.1, gamma=0.1)\n",
    "#Visually evaluate the fits\n",
    "plot(dat_ts, ylab=\"Passenger Departure Counts\", xlim=c(2010,2022))\n",
    "lines(HW1$fitted[,1], lty=2, col=\"blue\")\n",
    "lines(HW2$fitted[,1], lty=2, col=\"red\")"
   ]
  },
  {
   "cell_type": "code",
   "execution_count": 55,
   "id": "45d85472",
   "metadata": {},
   "outputs": [
    {
     "data": {
      "image/png": "[encoded data removed]",
      "text/plain": [
       "plot without title"
      ]
     },
     "metadata": {
      "image/png": {
       "height": 420,
       "width": 420
      }
     },
     "output_type": "display_data"
    }
   ],
   "source": [
    "HW1.pred <- predict(HW1, 24, prediction.interval = TRUE, level=0.95)\n",
    "#Visually evaluate the prediction\n",
    "plot(dat_ts, ylab=\"Passenger Departure count\", xlim=c(2010.5,2022))\n",
    "lines(HW1$fitted[,1], lty=2, col=\"blue\")\n",
    "lines(HW1.pred[,1], col=\"red\")\n",
    "lines(HW1.pred[,2], lty=2, col=\"orange\")\n",
    "lines(HW1.pred[,3], lty=2, col=\"orange\")"
   ]
  },
  {
   "cell_type": "code",
   "execution_count": 56,
   "id": "570c3386",
   "metadata": {},
   "outputs": [
    {
     "data": {
      "image/png": "[encoded data removed]",
      "text/plain": [
       "plot without title"
      ]
     },
     "metadata": {
      "image/png": {
       "height": 420,
       "width": 420
      }
     },
     "output_type": "display_data"
    }
   ],
   "source": [
    "HW3 <- HoltWinters(dat_ts, seasonal = \"multiplicative\")\n",
    "HW3.pred <- predict(HW3, 24, prediction.interval = TRUE, level=0.95)\n",
    "plot(dat_ts, ylab=\"passenger departure count\", xlim=c(2008.5,2020))\n",
    "lines(HW3$fitted[,1], lty=2, col=\"blue\")\n",
    "lines(HW3.pred[,1], col=\"red\")\n",
    "lines(HW3.pred[,2], lty=2, col=\"orange\")\n",
    "lines(HW3.pred[,3], lty=2, col=\"orange\")"
   ]
  },
  {
   "cell_type": "code",
   "execution_count": 57,
   "id": "11266434",
   "metadata": {},
   "outputs": [
    {
     "data": {
      "image/png": "[encoded data removed]",
      "text/plain": [
       "Plot with title \"Forecasts from HoltWinters\""
      ]
     },
     "metadata": {
      "image/png": {
       "height": 420,
       "width": 420
      }
     },
     "output_type": "display_data"
    }
   ],
   "source": [
    "library(forecast)\n",
    "HW1_for <- forecast(HW1, h=24, level=c(80,95))\n",
    "#visualize our predictions:\n",
    "plot(HW1_for, xlim=c(2010, 2022))\n",
    "lines(HW1_for$fitted, lty=2, col=\"purple\")"
   ]
  },
  {
   "cell_type": "code",
   "execution_count": 58,
   "id": "6e00d455",
   "metadata": {
    "scrolled": true
   },
   "outputs": [
    {
     "data": {
      "text/plain": [
       "\n",
       "\tBox-Ljung test\n",
       "\n",
       "data:  HW1_for$residuals\n",
       "X-squared = 18.313, df = 20, p-value = 0.5668\n"
      ]
     },
     "metadata": {},
     "output_type": "display_data"
    },
    {
     "data": {
      "image/png": "[encoded data removed]",
      "text/plain": [
       "Plot with title \"Series  HW1_for$residuals\""
      ]
     },
     "metadata": {
      "image/png": {
       "height": 420,
       "width": 420
      }
     },
     "output_type": "display_data"
    },
    {
     "data": {
      "image/png": "[encoded data removed]",
      "text/plain": [
       "Plot with title \"Histogram of HW1_for$residuals\""
      ]
     },
     "metadata": {
      "image/png": {
       "height": 420,
       "width": 420
      }
     },
     "output_type": "display_data"
    }
   ],
   "source": [
    "acf(HW1_for$residuals, lag.max=20, na.action=na.pass)\n",
    "Box.test(HW1_for$residuals, lag=20, type=\"Ljung-Box\")\n",
    "hist(HW1_for$residuals)"
   ]
  },
  {
   "cell_type": "code",
   "execution_count": 59,
   "id": "28b31a2c",
   "metadata": {
    "scrolled": true
   },
   "outputs": [
    {
     "data": {
      "image/png": "[encoded data removed]",
      "text/plain": [
       "Plot with title \"Series  HW1_for$residuals\""
      ]
     },
     "metadata": {
      "image/png": {
       "height": 420,
       "width": 420
      }
     },
     "output_type": "display_data"
    }
   ],
   "source": [
    "pacf(HW1_for$residuals, lag.max=20, na.action=na.pass)\n"
   ]
  },
  {
   "cell_type": "code",
   "execution_count": 89,
   "id": "e9794fe8",
   "metadata": {},
   "outputs": [
    {
     "data": {
      "image/png": "[encoded data removed]",
      "text/plain": [
       "Plot with title \"Forecasts from HoltWinters\""
      ]
     },
     "metadata": {
      "image/png": {
       "height": 420,
       "width": 420
      }
     },
     "output_type": "display_data"
    }
   ],
   "source": [
    "plot(HW1_for)"
   ]
  },
  {
   "cell_type": "code",
   "execution_count": 95,
   "id": "96c5d7b6",
   "metadata": {},
   "outputs": [
    {
     "data": {
      "text/plain": [
       "Holt-Winters exponential smoothing with trend and multiplicative seasonal component.\n",
       "\n",
       "Call:\n",
       "HoltWinters(x = dat_ts, seasonal = \"multiplicative\")\n",
       "\n",
       "Smoothing parameters:\n",
       " alpha: 1\n",
       " beta : 0\n",
       " gamma: 0.08434583\n",
       "\n",
       "Coefficients:\n",
       "            [,1]\n",
       "a   1299.6957346\n",
       "b      2.6934441\n",
       "s1     0.7358799\n",
       "s2     0.7297410\n",
       "s3     0.8769095\n",
       "s4     0.9994145\n",
       "s5     1.1012321\n",
       "s6     1.2158999\n",
       "s7     1.3168257\n",
       "s8     1.2991644\n",
       "s9     1.1247809\n",
       "s10    1.0796264\n",
       "s11    0.8129754\n",
       "s12    0.7075502"
      ]
     },
     "metadata": {},
     "output_type": "display_data"
    }
   ],
   "source": [
    "HW3"
   ]
  },
  {
   "cell_type": "code",
   "execution_count": 60,
   "id": "4da378c6",
   "metadata": {},
   "outputs": [
    {
     "name": "stderr",
     "output_type": "stream",
     "text": [
      "Warning message:\n",
      "\"package 'tseries' was built under R version 4.2.2\"\n"
     ]
    }
   ],
   "source": [
    "library('ggplot2')\n",
    "library('forecast')\n",
    "library('tseries')"
   ]
  },
  {
   "cell_type": "code",
   "execution_count": 61,
   "id": "f771077e",
   "metadata": {},
   "outputs": [
    {
     "data": {
      "text/plain": [
       "\n",
       "\tAugmented Dickey-Fuller Test\n",
       "\n",
       "data:  dat_ts\n",
       "Dickey-Fuller = -2.3689, Lag order = 5, p-value = 0.4226\n",
       "alternative hypothesis: stationary\n"
      ]
     },
     "metadata": {},
     "output_type": "display_data"
    }
   ],
   "source": [
    "adf.test(dat_ts)"
   ]
  },
  {
   "cell_type": "code",
   "execution_count": 62,
   "id": "ba0ae4ba",
   "metadata": {},
   "outputs": [
    {
     "name": "stdout",
     "output_type": "stream",
     "text": [
      "\n",
      " Fitting models using approximations to speed things up...\n",
      "\n",
      " ARIMA(2,0,2)(1,1,1)[12] with drift         : Inf\n",
      " ARIMA(0,0,0)(0,1,0)[12] with drift         : 2067.354\n",
      " ARIMA(1,0,0)(1,1,0)[12] with drift         : 1735.381\n",
      " ARIMA(0,0,1)(0,1,1)[12] with drift         : 1886.103\n",
      " ARIMA(0,0,0)(0,1,0)[12]                    : 2065.58\n",
      " ARIMA(1,0,0)(0,1,0)[12] with drift         : 1740.671\n",
      " ARIMA(1,0,0)(2,1,0)[12] with drift         : 1712.781\n",
      " ARIMA(1,0,0)(2,1,1)[12] with drift         : Inf\n",
      " ARIMA(1,0,0)(1,1,1)[12] with drift         : Inf\n",
      " ARIMA(0,0,0)(2,1,0)[12] with drift         : 2047.365\n",
      " ARIMA(2,0,0)(2,1,0)[12] with drift         : 1702.684\n",
      " ARIMA(2,0,0)(1,1,0)[12] with drift         : 1707.116\n",
      " ARIMA(2,0,0)(2,1,1)[12] with drift         : Inf\n",
      " ARIMA(2,0,0)(1,1,1)[12] with drift         : Inf\n",
      " ARIMA(3,0,0)(2,1,0)[12] with drift         : 1704.392\n",
      " ARIMA(2,0,1)(2,1,0)[12] with drift         : 1711.631\n",
      " ARIMA(1,0,1)(2,1,0)[12] with drift         : 1704.678\n",
      " ARIMA(3,0,1)(2,1,0)[12] with drift         : 1706.317\n",
      " ARIMA(2,0,0)(2,1,0)[12]                    : 1700.73\n",
      " ARIMA(2,0,0)(1,1,0)[12]                    : 1705.153\n",
      " ARIMA(2,0,0)(2,1,1)[12]                    : Inf\n",
      " ARIMA(2,0,0)(1,1,1)[12]                    : Inf\n",
      " ARIMA(1,0,0)(2,1,0)[12]                    : 1710.923\n",
      " ARIMA(3,0,0)(2,1,0)[12]                    : 1702.471\n",
      " ARIMA(2,0,1)(2,1,0)[12]                    : 1701.836\n",
      " ARIMA(1,0,1)(2,1,0)[12]                    : 1702.758\n",
      " ARIMA(3,0,1)(2,1,0)[12]                    : 1704.417\n",
      "\n",
      " Now re-fitting the best model(s) without approximations...\n",
      "\n",
      " ARIMA(2,0,0)(2,1,0)[12]                    : 1842.596\n",
      "\n",
      " Best model: ARIMA(2,0,0)(2,1,0)[12]                    \n",
      "\n"
     ]
    }
   ],
   "source": [
    "dpt_model = auto.arima(dat_ts,ic=\"aic\",trace=TRUE)"
   ]
  },
  {
   "cell_type": "code",
   "execution_count": 63,
   "id": "0f229b6a",
   "metadata": {},
   "outputs": [
    {
     "data": {
      "text/plain": [
       "Series: dat_ts \n",
       "ARIMA(2,0,0)(2,1,0)[12] \n",
       "\n",
       "Coefficients:\n",
       "         ar1      ar2     sar1     sar2\n",
       "      1.2607  -0.3219  -0.6186  -0.4416\n",
       "s.e.  0.0831   0.0831   0.1046   0.1052\n",
       "\n",
       "sigma^2 = 18924:  log likelihood = -916.3\n",
       "AIC=1842.6   AICc=1843.03   BIC=1857.45"
      ]
     },
     "metadata": {},
     "output_type": "display_data"
    }
   ],
   "source": [
    "dpt_model"
   ]
  },
  {
   "cell_type": "code",
   "execution_count": 64,
   "id": "2841af1a",
   "metadata": {},
   "outputs": [
    {
     "data": {
      "image/png": "[encoded data removed]",
      "text/plain": [
       "Plot with title \"Series  ts(dpt_model$residuals)\""
      ]
     },
     "metadata": {
      "image/png": {
       "height": 420,
       "width": 420
      }
     },
     "output_type": "display_data"
    }
   ],
   "source": [
    "acf(ts(dpt_model$residuals))"
   ]
  },
  {
   "cell_type": "code",
   "execution_count": 65,
   "id": "4f41121b",
   "metadata": {
    "scrolled": true
   },
   "outputs": [
    {
     "data": {
      "image/png": "[encoded data removed]",
      "text/plain": [
       "Plot with title \"Series  ts(dpt_model$residuals)\""
      ]
     },
     "metadata": {
      "image/png": {
       "height": 420,
       "width": 420
      }
     },
     "output_type": "display_data"
    }
   ],
   "source": [
    "pacf(ts(dpt_model$residuals))"
   ]
  },
  {
   "cell_type": "code",
   "execution_count": 66,
   "id": "fcbbaa29",
   "metadata": {},
   "outputs": [],
   "source": [
    "dprt_cnt_fcast=forecast(dpt_model,level=c(96),h=10*4)"
   ]
  },
  {
   "cell_type": "code",
   "execution_count": 67,
   "id": "e2fcc732",
   "metadata": {},
   "outputs": [
    {
     "data": {
      "text/plain": [
       "         Point Forecast       Lo 96    Hi 96\n",
       "Jan 2023       836.3163  553.792961 1118.840\n",
       "Feb 2023       911.2984  456.668590 1365.928\n",
       "Mar 2023       751.2908  172.549834 1330.032\n",
       "Apr 2023       641.4212  -28.216157 1311.059\n",
       "May 2023       682.0680  -55.601878 1419.738\n",
       "Jun 2023       781.3505   -8.269873 1570.971\n",
       "Jul 2023       925.3994   95.461089 1755.338\n",
       "Aug 2023       971.3668  109.746632 1832.987\n",
       "Sep 2023       881.2716   -5.479117 1768.022\n",
       "Oct 2023       540.0137 -366.812869 1446.840\n",
       "Nov 2023       506.0250 -416.925849 1428.976\n",
       "Dec 2023       583.9274 -352.027537 1519.882\n",
       "Jan 2024       496.9366 -471.443246 1465.317\n",
       "Feb 2024       536.1096 -467.411440 1539.631\n",
       "Mar 2024       523.0705 -511.582124 1557.723\n",
       "Apr 2024       547.2837 -513.246554 1607.814\n",
       "May 2024       587.7222 -493.885152 1669.329\n",
       "Jun 2024       700.1709 -398.510823 1798.853\n",
       "Jul 2024       860.2215 -252.288073 1972.731\n",
       "Aug 2024       996.5255 -127.197257 2120.248\n",
       "Sep 2024       951.7344 -181.095990 2084.565\n",
       "Oct 2024       713.9095 -426.329609 1854.149\n",
       "Nov 2024       672.2775 -473.996309 1818.551\n",
       "Dec 2024       702.1055 -449.088911 1853.300\n",
       "Jan 2025       582.5357 -583.805163 1748.876\n",
       "Feb 2025       708.3357 -475.365485 1892.037\n",
       "Mar 2025       790.0797 -409.469858 1989.629\n",
       "Apr 2025       946.9298 -266.050987 2159.911\n",
       "May 2025      1014.6533 -209.416566 2238.723\n",
       "Jun 2025      1164.8534  -68.289917 2397.997\n",
       "Jul 2025      1287.9089   47.361096 2528.457\n",
       "Aug 2025      1330.3845   83.796548 2576.972\n",
       "Sep 2025      1227.3012  -24.215674 2478.818\n",
       "Oct 2025       696.0319 -559.509476 1951.573\n",
       "Nov 2025       684.6367 -574.192613 1943.466\n",
       "Dec 2025       781.1061 -480.410678 2042.623\n",
       "Jan 2026       682.9574 -603.693424 1969.608\n",
       "Feb 2026       770.6497 -548.845257 2090.145\n",
       "Mar 2026       728.5657 -621.865526 2078.997\n",
       "Apr 2026       743.8905 -632.909339 2120.690"
      ]
     },
     "metadata": {},
     "output_type": "display_data"
    }
   ],
   "source": [
    "dprt_cnt_fcast"
   ]
  },
  {
   "cell_type": "code",
   "execution_count": 68,
   "id": "29726441",
   "metadata": {},
   "outputs": [
    {
     "data": {
      "text/plain": [
       "\n",
       "Forecast method: Naive method\n",
       "\n",
       "Model Information:\n",
       "Call: naive(y = dat_ts, h = 12) \n",
       "\n",
       "Residual sd: 173.0108 \n",
       "\n",
       "Error measures:\n",
       "                   ME     RMSE      MAE       MPE     MAPE      MASE      ACF1\n",
       "Training set 1.207742 173.0108 126.6503 -28.79857 43.90249 0.4668085 0.3979402\n",
       "\n",
       "Forecasts:\n",
       "         Point Forecast    Lo 80    Hi 80      Lo 95    Hi 95\n",
       "Jan 2023          919.6 697.8777 1141.322  580.50507 1258.695\n",
       "Feb 2023          919.6 606.0374 1233.163  440.04735 1399.153\n",
       "Mar 2023          919.6 535.5658 1303.634  332.27035 1506.930\n",
       "Apr 2023          919.6 476.1555 1363.045  241.41014 1597.790\n",
       "May 2023          919.6 423.8140 1415.386  161.36068 1677.839\n",
       "Jun 2023          919.6 376.4936 1462.706   88.99044 1750.210\n",
       "Jul 2023          919.6 332.9780 1506.222   22.43914 1816.761\n",
       "Aug 2023          919.6 292.4748 1546.725  -39.50530 1878.705\n",
       "Sep 2023          919.6 254.4332 1584.767  -97.68480 1936.885\n",
       "Oct 2023          919.6 218.4527 1620.747 -152.71233 1991.912\n",
       "Nov 2023          919.6 184.2305 1654.970 -205.05066 2044.251\n",
       "Dec 2023          919.6 151.5316 1687.668 -255.05930 2094.259"
      ]
     },
     "metadata": {},
     "output_type": "display_data"
    }
   ],
   "source": [
    "naive_mod <- naive(dat_ts, h = 12)\n",
    "summary(naive_mod)"
   ]
  },
  {
   "cell_type": "code",
   "execution_count": 74,
   "id": "29e72ee6",
   "metadata": {},
   "outputs": [
    {
     "data": {
      "image/png": "[encoded data removed]",
      "text/plain": [
       "Plot with title \"Forecasts from Naive method\""
      ]
     },
     "metadata": {
      "image/png": {
       "height": 420,
       "width": 420
      }
     },
     "output_type": "display_data"
    }
   ],
   "source": [
    "plot(naive_mod)"
   ]
  },
  {
   "cell_type": "code",
   "execution_count": 69,
   "id": "711b86aa",
   "metadata": {},
   "outputs": [
    {
     "data": {
      "text/html": [
       "170.37203881612"
      ],
      "text/latex": [
       "170.37203881612"
      ],
      "text/markdown": [
       "170.37203881612"
      ],
      "text/plain": [
       "[1] 170.372"
      ]
     },
     "metadata": {},
     "output_type": "display_data"
    }
   ],
   "source": [
    "dat$naive = 919.6 \n",
    "mape(dat$departure,dat$naive)"
   ]
  },
  {
   "cell_type": "code",
   "execution_count": 70,
   "id": "179aa1c5",
   "metadata": {},
   "outputs": [
    {
     "data": {
      "text/plain": [
       "\n",
       "Forecast method: Simple exponential smoothing\n",
       "\n",
       "Model Information:\n",
       "Simple exponential smoothing \n",
       "\n",
       "Call:\n",
       " ses(y = dat_ts, h = 12) \n",
       "\n",
       "  Smoothing parameters:\n",
       "    alpha = 0.9999 \n",
       "\n",
       "  Initial states:\n",
       "    l = 762.1407 \n",
       "\n",
       "  sigma:  173.5951\n",
       "\n",
       "     AIC     AICc      BIC \n",
       "2400.663 2400.821 2409.812 \n",
       "\n",
       "Error measures:\n",
       "                   ME     RMSE      MAE       MPE     MAPE     MASE      ACF1\n",
       "Training set 1.009351 172.4787 126.0354 -28.64455 43.64916 0.464542 0.3977867\n",
       "\n",
       "Forecasts:\n",
       "         Point Forecast    Lo 80    Hi 80      Lo 95    Hi 95\n",
       "Jan 2023       919.5838 697.1127 1142.055  579.34368 1259.824\n",
       "Feb 2023       919.5838 604.9779 1234.190  438.43569 1400.732\n",
       "Mar 2023       919.5838 534.2783 1304.889  330.30996 1508.858\n",
       "Apr 2023       919.5838 474.6751 1364.492  239.15467 1600.013\n",
       "May 2023       919.5838 422.1632 1417.004  158.84471 1680.323\n",
       "Jun 2023       919.5838 374.6887 1464.479   86.23867 1752.929\n",
       "Jul 2023       919.5838 331.0312 1508.136   19.47033 1819.697\n",
       "Aug 2023       919.5838 290.3958 1548.772  -42.67625 1881.844\n",
       "Sep 2023       919.5838 252.2300 1586.937 -101.04569 1940.213\n",
       "Oct 2023       919.5838 216.1319 1623.036 -156.25295 1995.420\n",
       "Nov 2023       919.5838 181.7979 1657.370 -208.76227 2047.930\n",
       "Dec 2023       919.5838 148.9922 1690.175 -258.93434 2098.102"
      ]
     },
     "metadata": {},
     "output_type": "display_data"
    }
   ],
   "source": [
    "#Simple Exponential Smoothing\n",
    "se_model <- ses(dat_ts, h = 12)\n",
    "summary(se_model)"
   ]
  },
  {
   "cell_type": "code",
   "execution_count": 78,
   "id": "d9103f53",
   "metadata": {},
   "outputs": [],
   "source": [
    "df_fc = as.data.frame(se_model)\n",
    "#colnames(df_fc)[1]  <- \"PointForecast\"\n",
    "#df_fc"
   ]
  },
  {
   "cell_type": "code",
   "execution_count": 79,
   "id": "d09829f1",
   "metadata": {},
   "outputs": [
    {
     "name": "stderr",
     "output_type": "stream",
     "text": [
      "Warning message in actual - pred:\n",
      "\"longer object length is not a multiple of shorter object length\"\n"
     ]
    },
    {
     "data": {
      "text/html": [
       "170.369663484254"
      ],
      "text/latex": [
       "170.369663484254"
      ],
      "text/markdown": [
       "170.369663484254"
      ],
      "text/plain": [
       "[1] 170.3697"
      ]
     },
     "metadata": {},
     "output_type": "display_data"
    }
   ],
   "source": [
    "mape(dat$departure, df_fc$`Point Forecast`) "
   ]
  },
  {
   "cell_type": "code",
   "execution_count": 80,
   "id": "9fbbff7d",
   "metadata": {},
   "outputs": [
    {
     "data": {
      "image/png": "[encoded data removed]",
      "text/plain": [
       "Plot with title \"Forecasts from Simple exponential smoothing\""
      ]
     },
     "metadata": {
      "image/png": {
       "height": 420,
       "width": 420
      }
     },
     "output_type": "display_data"
    }
   ],
   "source": [
    "plot(se_model)"
   ]
  },
  {
   "cell_type": "code",
   "execution_count": 81,
   "id": "53875745",
   "metadata": {},
   "outputs": [
    {
     "data": {
      "text/plain": [
       "\n",
       "Forecast method: Holt's method\n",
       "\n",
       "Model Information:\n",
       "Holt's method \n",
       "\n",
       "Call:\n",
       " holt(y = dat_ts, h = 12) \n",
       "\n",
       "  Smoothing parameters:\n",
       "    alpha = 0.9999 \n",
       "    beta  = 0.5723 \n",
       "\n",
       "  Initial states:\n",
       "    l = 685.5744 \n",
       "    b = 45.9132 \n",
       "\n",
       "  sigma:  177.2245\n",
       "\n",
       "     AIC     AICc      BIC \n",
       "2409.080 2409.480 2424.329 \n",
       "\n",
       "Error measures:\n",
       "                    ME     RMSE      MAE      MPE     MAPE      MASE       ACF1\n",
       "Training set -0.479112 174.9376 131.3095 5.989298 41.27678 0.4839813 0.01515054\n",
       "\n",
       "Forecasts:\n",
       "         Point Forecast       Lo 80    Hi 80       Lo 95    Hi 95\n",
       "Jan 2023       922.6984   695.57611 1149.821   575.34481 1270.052\n",
       "Feb 2023       925.8342   502.63417 1349.034   278.60561 1573.063\n",
       "Mar 2023       928.9699   283.72055 1574.219   -57.85384 1915.794\n",
       "Apr 2023       932.1057    39.28688 1824.925  -433.34285 2297.554\n",
       "May 2023       935.2414  -228.90183 2099.385  -845.16206 2715.645\n",
       "Jun 2023       938.3772  -519.17366 2395.928 -1290.75448 3167.509\n",
       "Jul 2023       941.5129  -830.09524 2713.121 -1767.92797 3650.954\n",
       "Aug 2023       944.6487 -1160.45180 3049.749 -2274.82470 4164.122\n",
       "Sep 2023       947.7844 -1509.20710 3404.776 -2809.85986 4705.429\n",
       "Oct 2023       950.9202 -1875.46776 3777.308 -3371.66717 5273.508\n",
       "Nov 2023       954.0559 -2258.45519 4166.567 -3959.05586 5867.168\n",
       "Dec 2023       957.1917 -2657.48388 4571.867 -4570.97754 6485.361"
      ]
     },
     "metadata": {},
     "output_type": "display_data"
    }
   ],
   "source": [
    "holt_model <- holt(dat_ts, h = 12)\n",
    "summary(holt_model)"
   ]
  },
  {
   "cell_type": "code",
   "execution_count": 82,
   "id": "48807b8f",
   "metadata": {},
   "outputs": [
    {
     "data": {
      "image/png": "[encoded data removed]",
      "text/plain": [
       "Plot with title \"Forecasts from Holt's method\""
      ]
     },
     "metadata": {
      "image/png": {
       "height": 420,
       "width": 420
      }
     },
     "output_type": "display_data"
    }
   ],
   "source": [
    "plot(holt_model)"
   ]
  },
  {
   "cell_type": "code",
   "execution_count": 83,
   "id": "8af8a16e",
   "metadata": {},
   "outputs": [
    {
     "name": "stderr",
     "output_type": "stream",
     "text": [
      "Warning message in actual - pred:\n",
      "\"longer object length is not a multiple of shorter object length\"\n"
     ]
    },
    {
     "data": {
      "text/html": [
       "172.492479221163"
      ],
      "text/latex": [
       "172.492479221163"
      ],
      "text/markdown": [
       "172.492479221163"
      ],
      "text/plain": [
       "[1] 172.4925"
      ]
     },
     "metadata": {},
     "output_type": "display_data"
    }
   ],
   "source": [
    "df_holt = as.data.frame(holt_model)\n",
    "#dat$holt = \n",
    "mape(dat$departure, df_holt$`Point Forecast`) "
   ]
  },
  {
   "cell_type": "code",
   "execution_count": 84,
   "id": "de2b8624",
   "metadata": {},
   "outputs": [
    {
     "data": {
      "text/plain": [
       "Series: dat_ts \n",
       "ARIMA(2,0,0)(2,1,0)[12] \n",
       "\n",
       "Coefficients:\n",
       "         ar1      ar2     sar1     sar2\n",
       "      1.2607  -0.3219  -0.6186  -0.4416\n",
       "s.e.  0.0831   0.0831   0.1046   0.1052\n",
       "\n",
       "sigma^2 = 18924:  log likelihood = -916.3\n",
       "AIC=1842.6   AICc=1843.03   BIC=1857.45\n",
       "\n",
       "Training set error measures:\n",
       "                    ME     RMSE      MAE       MPE     MAPE      MASE\n",
       "Training set -1.175783 130.3193 62.05267 -32.17348 44.14329 0.2287141\n",
       "                   ACF1\n",
       "Training set -0.0144521"
      ]
     },
     "metadata": {},
     "output_type": "display_data"
    }
   ],
   "source": [
    "arima_model <- auto.arima(dat_ts)\n",
    "summary(arima_model)"
   ]
  },
  {
   "cell_type": "code",
   "execution_count": 85,
   "id": "282fc2e5",
   "metadata": {},
   "outputs": [
    {
     "name": "stderr",
     "output_type": "stream",
     "text": [
      "Warning message in actual - pred:\n",
      "\"longer object length is not a multiple of shorter object length\"\n"
     ]
    },
    {
     "data": {
      "text/html": [
       "143.157754891103"
      ],
      "text/latex": [
       "143.157754891103"
      ],
      "text/markdown": [
       "143.157754891103"
      ],
      "text/plain": [
       "[1] 143.1578"
      ]
     },
     "metadata": {},
     "output_type": "display_data"
    }
   ],
   "source": [
    "fore_arima = forecast::forecast(arima_model, h=12)\n",
    "df_arima = as.data.frame(fore_arima)\n",
    "mape(dat$departure, df_arima$`Point Forecast`)  "
   ]
  },
  {
   "cell_type": "code",
   "execution_count": 86,
   "id": "170a1200",
   "metadata": {},
   "outputs": [
    {
     "data": {
      "text/plain": [
       "         Point Forecast       Lo 80    Hi 80      Lo 95    Hi 95\n",
       "Jan 2023       836.3163 660.0200692 1012.613  566.69446 1105.938\n",
       "Feb 2023       911.2984 627.6066915 1194.990  477.42937 1345.167\n",
       "Mar 2023       751.2908 390.1529734 1112.429  198.97817 1303.603\n",
       "Apr 2023       641.4212 223.5634955 1059.279    2.36299 1280.479\n",
       "May 2023       682.0680 221.7575861 1142.378  -21.91601 1386.052\n",
       "Jun 2023       781.3505 288.6226910 1274.078   27.78833 1534.913\n",
       "Jul 2023       925.3994 407.5129566 1443.286  133.36042 1717.438\n",
       "Aug 2023       971.3668 433.7106734 1509.023  149.09272 1793.641\n",
       "Sep 2023       881.2716 327.9338760 1434.609   35.01456 1727.529\n",
       "Oct 2023       540.0137 -25.8514853 1105.879 -325.40242 1405.430\n",
       "Nov 2023       506.0250 -69.9018188 1081.952 -374.77908 1386.829\n",
       "Dec 2023       583.9274  -0.1140448 1167.969 -309.28693 1477.142"
      ]
     },
     "metadata": {},
     "output_type": "display_data"
    }
   ],
   "source": [
    "fore_arima"
   ]
  },
  {
   "cell_type": "code",
   "execution_count": 87,
   "id": "55ebea18",
   "metadata": {},
   "outputs": [
    {
     "data": {
      "image/png": "[encoded data removed]",
      "text/plain": [
       "Plot with title \"Forecasts from ARIMA(2,0,0)(2,1,0)[12]\""
      ]
     },
     "metadata": {
      "image/png": {
       "height": 420,
       "width": 420
      }
     },
     "output_type": "display_data"
    }
   ],
   "source": [
    "plot(fore_arima)"
   ]
  },
  {
   "cell_type": "code",
   "execution_count": 58,
   "id": "41b553f5",
   "metadata": {
    "scrolled": true
   },
   "outputs": [
    {
     "data": {
      "image/png": "[encoded data removed]",
      "text/plain": [
       "Plot with title \"Inverse AR roots\""
      ]
     },
     "metadata": {
      "image/png": {
       "height": 420,
       "width": 420
      }
     },
     "output_type": "display_data"
    }
   ],
   "source": [
    "plot(arima_model)"
   ]
  },
  {
   "cell_type": "code",
   "execution_count": 37,
   "id": "dba9e9a8",
   "metadata": {},
   "outputs": [
    {
     "data": {
      "text/plain": [
       "                  Length Class  Mode     \n",
       "lambda               0   -none- NULL     \n",
       "alpha                1   -none- numeric  \n",
       "beta                 1   -none- numeric  \n",
       "damping.parameter    1   -none- numeric  \n",
       "gamma.one.values     1   -none- numeric  \n",
       "gamma.two.values     1   -none- numeric  \n",
       "ar.coefficients      0   -none- NULL     \n",
       "ma.coefficients      0   -none- NULL     \n",
       "likelihood           1   -none- numeric  \n",
       "optim.return.code    1   -none- numeric  \n",
       "variance             1   -none- numeric  \n",
       "AIC                  1   -none- numeric  \n",
       "parameters           2   -none- list     \n",
       "seed.states         12   -none- numeric  \n",
       "fitted.values      156   ts     numeric  \n",
       "errors             156   ts     numeric  \n",
       "x                 1872   -none- numeric  \n",
       "seasonal.periods     1   -none- numeric  \n",
       "k.vector             1   -none- numeric  \n",
       "y                  156   ts     numeric  \n",
       "p                    1   -none- numeric  \n",
       "q                    1   -none- numeric  \n",
       "call                 2   -none- call     \n",
       "series               1   -none- character\n",
       "method               1   -none- character"
      ]
     },
     "metadata": {},
     "output_type": "display_data"
    }
   ],
   "source": [
    "model_tbats <- tbats(dat_ts)\n",
    "summary(model_tbats)"
   ]
  },
  {
   "cell_type": "code",
   "execution_count": 38,
   "id": "c6751dcd",
   "metadata": {},
   "outputs": [
    {
     "name": "stderr",
     "output_type": "stream",
     "text": [
      "Warning message in actual - pred:\n",
      "\"longer object length is not a multiple of shorter object length\"\n"
     ]
    },
    {
     "data": {
      "text/html": [
       "213.84305328128"
      ],
      "text/latex": [
       "213.84305328128"
      ],
      "text/markdown": [
       "213.84305328128"
      ],
      "text/plain": [
       "[1] 213.8431"
      ]
     },
     "metadata": {},
     "output_type": "display_data"
    }
   ],
   "source": [
    "for_tbats <- forecast::forecast(model_tbats, h = 12)\n",
    "df_tbats = as.data.frame(for_tbats)\n",
    "mape(dat$departure, df_tbats$`Point Forecast`) "
   ]
  },
  {
   "cell_type": "code",
   "execution_count": 59,
   "id": "0aa8b226",
   "metadata": {},
   "outputs": [
    {
     "data": {
      "image/png": "[encoded data removed]",
      "text/plain": [
       "plot without title"
      ]
     },
     "metadata": {
      "image/png": {
       "height": 420,
       "width": 420
      }
     },
     "output_type": "display_data"
    }
   ],
   "source": [
    "plot(model_tbats)"
   ]
  },
  {
   "cell_type": "code",
   "execution_count": 97,
   "id": "35ec61bc",
   "metadata": {},
   "outputs": [
    {
     "name": "stderr",
     "output_type": "stream",
     "text": [
      "\u001b[1mRows: \u001b[22m\u001b[34m153\u001b[39m \u001b[1mColumns: \u001b[22m\u001b[34m2\u001b[39m\n",
      "\u001b[36m──\u001b[39m \u001b[1mColumn specification\u001b[22m \u001b[36m────────────────────────────────────────────────────────────────────────────────────────────────────────────────────────────────────────────────\u001b[39m\n",
      "\u001b[1mDelimiter:\u001b[22m \",\"\n",
      "\u001b[31mchr\u001b[39m (1): Month\n",
      "\u001b[32mdbl\u001b[39m (1): departures '000\n",
      "\n",
      "\u001b[36mℹ\u001b[39m Use `spec()` to retrieve the full column specification for this data.\n",
      "\u001b[36mℹ\u001b[39m Specify the column types or set `show_col_types = FALSE` to quiet this message.\n"
     ]
    },
    {
     "name": "stdout",
     "output_type": "stream",
     "text": [
      "Rows: 153\n",
      "Columns: 2\n",
      "$ Month             \u001b[3m\u001b[90m<chr>\u001b[39m\u001b[23m \"2010 January\", \"2010 February\", \"2010 March\", \"2010…\n",
      "$ `departures '000` \u001b[3m\u001b[90m<dbl>\u001b[39m\u001b[23m 732.4, 757.2, 919.6, 709.5, 977.9, 1183.1, 1269.5, 1…\n"
     ]
    }
   ],
   "source": [
    "dat <- read_csv(\"Departure.csv\")\n",
    "glimpse(dat)"
   ]
  },
  {
   "cell_type": "code",
   "execution_count": 98,
   "id": "70c92b0c",
   "metadata": {},
   "outputs": [],
   "source": [
    "dat_ss<-dat %>% filter(substr(dat$Month,1,4) <= '2020')"
   ]
  },
  {
   "cell_type": "code",
   "execution_count": 99,
   "id": "d953531b",
   "metadata": {},
   "outputs": [
    {
     "data": {
      "text/plain": [
       "    Month           departures '000 \n",
       " Length:132         Min.   :  12.8  \n",
       " Class :character   1st Qu.: 888.1  \n",
       " Mode  :character   Median :1161.0  \n",
       "                    Mean   :1136.2  \n",
       "                    3rd Qu.:1370.5  \n",
       "                    Max.   :2006.9  "
      ]
     },
     "metadata": {},
     "output_type": "display_data"
    }
   ],
   "source": [
    "summary(dat_ss)"
   ]
  },
  {
   "cell_type": "code",
   "execution_count": 100,
   "id": "dee127c8",
   "metadata": {},
   "outputs": [
    {
     "name": "stdout",
     "output_type": "stream",
     "text": [
      "spc_tbl_ [132 × 2] (S3: spec_tbl_df/tbl_df/tbl/data.frame)\n",
      " $ Month          : chr [1:132] \"2010 January\" \"2010 February\" \"2010 March\" \"2010 April\" ...\n",
      " $ departures '000: num [1:132] 732 757 920 710 978 ...\n",
      " - attr(*, \"spec\")=\n",
      "  .. cols(\n",
      "  ..   Month = \u001b[31mcol_character()\u001b[39m,\n",
      "  ..   `departures '000` = \u001b[32mcol_double()\u001b[39m\n",
      "  .. )\n",
      " - attr(*, \"problems\")=<externalptr> \n"
     ]
    }
   ],
   "source": [
    "str(dat_ss)"
   ]
  },
  {
   "cell_type": "code",
   "execution_count": 101,
   "id": "96623b83",
   "metadata": {},
   "outputs": [
    {
     "data": {
      "text/html": [
       "<table class=\"dataframe\">\n",
       "<caption>A tibble: 6 × 2</caption>\n",
       "<thead>\n",
       "\t<tr><th scope=col>Month</th><th scope=col>departures '000</th></tr>\n",
       "\t<tr><th scope=col>&lt;chr&gt;</th><th scope=col>&lt;dbl&gt;</th></tr>\n",
       "</thead>\n",
       "<tbody>\n",
       "\t<tr><td>2010 January </td><td> 732.4</td></tr>\n",
       "\t<tr><td>2010 February</td><td> 757.2</td></tr>\n",
       "\t<tr><td>2010 March   </td><td> 919.6</td></tr>\n",
       "\t<tr><td>2010 April   </td><td> 709.5</td></tr>\n",
       "\t<tr><td>2010 May     </td><td> 977.9</td></tr>\n",
       "\t<tr><td>2010 June    </td><td>1183.1</td></tr>\n",
       "</tbody>\n",
       "</table>\n"
      ],
      "text/latex": [
       "A tibble: 6 × 2\n",
       "\\begin{tabular}{ll}\n",
       " Month & departures '000\\\\\n",
       " <chr> & <dbl>\\\\\n",
       "\\hline\n",
       "\t 2010 January  &  732.4\\\\\n",
       "\t 2010 February &  757.2\\\\\n",
       "\t 2010 March    &  919.6\\\\\n",
       "\t 2010 April    &  709.5\\\\\n",
       "\t 2010 May      &  977.9\\\\\n",
       "\t 2010 June     & 1183.1\\\\\n",
       "\\end{tabular}\n"
      ],
      "text/markdown": [
       "\n",
       "A tibble: 6 × 2\n",
       "\n",
       "| Month &lt;chr&gt; | departures '000 &lt;dbl&gt; |\n",
       "|---|---|\n",
       "| 2010 January  |  732.4 |\n",
       "| 2010 February |  757.2 |\n",
       "| 2010 March    |  919.6 |\n",
       "| 2010 April    |  709.5 |\n",
       "| 2010 May      |  977.9 |\n",
       "| 2010 June     | 1183.1 |\n",
       "\n"
      ],
      "text/plain": [
       "  Month         departures '000\n",
       "1 2010 January   732.4         \n",
       "2 2010 February  757.2         \n",
       "3 2010 March     919.6         \n",
       "4 2010 April     709.5         \n",
       "5 2010 May       977.9         \n",
       "6 2010 June     1183.1         "
      ]
     },
     "metadata": {},
     "output_type": "display_data"
    }
   ],
   "source": [
    "head(dat_ss)"
   ]
  },
  {
   "cell_type": "code",
   "execution_count": 102,
   "id": "302e1073",
   "metadata": {},
   "outputs": [
    {
     "data": {
      "text/html": [
       "<table class=\"dataframe\">\n",
       "<caption>A tibble: 6 × 2</caption>\n",
       "<thead>\n",
       "\t<tr><th scope=col>Month</th><th scope=col>departures '000</th></tr>\n",
       "\t<tr><th scope=col>&lt;chr&gt;</th><th scope=col>&lt;dbl&gt;</th></tr>\n",
       "</thead>\n",
       "<tbody>\n",
       "\t<tr><td>2020 July     </td><td>239.0</td></tr>\n",
       "\t<tr><td>2020 August   </td><td>275.5</td></tr>\n",
       "\t<tr><td>2020 September</td><td>203.5</td></tr>\n",
       "\t<tr><td>2020 October  </td><td>143.7</td></tr>\n",
       "\t<tr><td>2020 November </td><td> 85.1</td></tr>\n",
       "\t<tr><td>2020 December </td><td>156.1</td></tr>\n",
       "</tbody>\n",
       "</table>\n"
      ],
      "text/latex": [
       "A tibble: 6 × 2\n",
       "\\begin{tabular}{ll}\n",
       " Month & departures '000\\\\\n",
       " <chr> & <dbl>\\\\\n",
       "\\hline\n",
       "\t 2020 July      & 239.0\\\\\n",
       "\t 2020 August    & 275.5\\\\\n",
       "\t 2020 September & 203.5\\\\\n",
       "\t 2020 October   & 143.7\\\\\n",
       "\t 2020 November  &  85.1\\\\\n",
       "\t 2020 December  & 156.1\\\\\n",
       "\\end{tabular}\n"
      ],
      "text/markdown": [
       "\n",
       "A tibble: 6 × 2\n",
       "\n",
       "| Month &lt;chr&gt; | departures '000 &lt;dbl&gt; |\n",
       "|---|---|\n",
       "| 2020 July      | 239.0 |\n",
       "| 2020 August    | 275.5 |\n",
       "| 2020 September | 203.5 |\n",
       "| 2020 October   | 143.7 |\n",
       "| 2020 November  |  85.1 |\n",
       "| 2020 December  | 156.1 |\n",
       "\n"
      ],
      "text/plain": [
       "  Month          departures '000\n",
       "1 2020 July      239.0          \n",
       "2 2020 August    275.5          \n",
       "3 2020 September 203.5          \n",
       "4 2020 October   143.7          \n",
       "5 2020 November   85.1          \n",
       "6 2020 December  156.1          "
      ]
     },
     "metadata": {},
     "output_type": "display_data"
    }
   ],
   "source": [
    "tail(dat_ss)"
   ]
  },
  {
   "cell_type": "code",
   "execution_count": 103,
   "id": "a5cf55c5",
   "metadata": {},
   "outputs": [
    {
     "data": {
      "text/html": [
       "132"
      ],
      "text/latex": [
       "132"
      ],
      "text/markdown": [
       "132"
      ],
      "text/plain": [
       "[1] 132"
      ]
     },
     "metadata": {},
     "output_type": "display_data"
    }
   ],
   "source": [
    "nrow(dat_ss)"
   ]
  },
  {
   "cell_type": "code",
   "execution_count": 104,
   "id": "006b439a",
   "metadata": {},
   "outputs": [],
   "source": [
    "colnames(dat_ss)[2]='departure'"
   ]
  },
  {
   "cell_type": "code",
   "execution_count": 105,
   "id": "cb55d6b3",
   "metadata": {},
   "outputs": [],
   "source": [
    "#dprt_dub$year <- substr(dprt_dub$Month,1,4)\n",
    "dat_ss$Date <- trimws(paste(substr(dat_ss$Month,1,4),ifelse(\n",
    "nchar(match(substr(dat_ss$Month,6,15), month.name))<2,\n",
    "paste('0',match(substr(dat_ss$Month,6,15), month.name),sep=''),\n",
    "match(substr(dat_ss$Month,6,15), month.name)\n",
    ")\n",
    ",sep=\"\"))"
   ]
  },
  {
   "cell_type": "code",
   "execution_count": 106,
   "id": "ea401965",
   "metadata": {},
   "outputs": [],
   "source": [
    "dat_ss <- dat_ss[,!names(dat_ss) %in% c(\"Month\")]"
   ]
  },
  {
   "cell_type": "code",
   "execution_count": 107,
   "id": "0142191c",
   "metadata": {},
   "outputs": [],
   "source": [
    "dat_ss$Date<-as.Date(paste0(dat_ss$Date, '01'), format='%Y%m%d')"
   ]
  },
  {
   "cell_type": "code",
   "execution_count": 108,
   "id": "228a9c59",
   "metadata": {},
   "outputs": [],
   "source": [
    "dat_ss_ts <- ts(dat_ss[, 1], start = c(2010, 1), end = c(2020, 12), frequency = 12)"
   ]
  },
  {
   "cell_type": "code",
   "execution_count": 109,
   "id": "c76c5a16",
   "metadata": {},
   "outputs": [
    {
     "data": {
      "text/html": [
       "<table class=\"dataframe\">\n",
       "<caption>A Time Series: 11 × 12</caption>\n",
       "<thead>\n",
       "\t<tr><th></th><th scope=col>Jan</th><th scope=col>Feb</th><th scope=col>Mar</th><th scope=col>Apr</th><th scope=col>May</th><th scope=col>Jun</th><th scope=col>Jul</th><th scope=col>Aug</th><th scope=col>Sep</th><th scope=col>Oct</th><th scope=col>Nov</th><th scope=col>Dec</th></tr>\n",
       "</thead>\n",
       "<tbody>\n",
       "\t<tr><th scope=row>2010</th><td> 732.4</td><td> 757.2</td><td> 919.6</td><td> 709.5</td><td> 977.9</td><td>1183.1</td><td>1269.5</td><td>1250.5</td><td>1078.7</td><td>1045.8</td><td> 800.7</td><td> 700.5</td></tr>\n",
       "\t<tr><th scope=row>2011</th><td> 729.6</td><td> 724.0</td><td> 869.6</td><td> 987.9</td><td>1084.2</td><td>1198.5</td><td>1288.0</td><td>1247.8</td><td>1070.3</td><td> 978.7</td><td> 774.3</td><td> 754.3</td></tr>\n",
       "\t<tr><th scope=row>2012</th><td> 700.5</td><td> 706.9</td><td> 874.8</td><td> 972.6</td><td>1089.6</td><td>1222.3</td><td>1278.8</td><td>1244.2</td><td>1122.1</td><td>1041.3</td><td> 804.1</td><td> 782.4</td></tr>\n",
       "\t<tr><th scope=row>2013</th><td> 709.5</td><td> 698.7</td><td> 937.3</td><td> 972.3</td><td>1160.2</td><td>1292.1</td><td>1336.7</td><td>1314.3</td><td>1144.2</td><td>1079.9</td><td> 836.5</td><td> 832.7</td></tr>\n",
       "\t<tr><th scope=row>2014</th><td> 764.7</td><td> 742.8</td><td> 892.5</td><td>1112.7</td><td>1223.8</td><td>1361.8</td><td>1418.4</td><td>1403.9</td><td>1231.2</td><td>1179.9</td><td> 925.4</td><td> 912.3</td></tr>\n",
       "\t<tr><th scope=row>2015</th><td> 861.5</td><td> 850.3</td><td>1063.4</td><td>1178.5</td><td>1359.9</td><td>1541.7</td><td>1600.0</td><td>1552.5</td><td>1368.8</td><td>1339.8</td><td>1055.4</td><td>1018.6</td></tr>\n",
       "\t<tr><th scope=row>2016</th><td> 981.7</td><td> 989.0</td><td>1236.5</td><td>1282.8</td><td>1475.7</td><td>1684.6</td><td>1738.7</td><td>1688.9</td><td>1498.6</td><td>1462.3</td><td>1134.9</td><td>1145.3</td></tr>\n",
       "\t<tr><th scope=row>2017</th><td>1057.1</td><td>1020.2</td><td>1227.7</td><td>1438.7</td><td>1530.6</td><td>1761.5</td><td>1828.6</td><td>1778.1</td><td>1583.6</td><td>1505.9</td><td>1203.5</td><td>1204.3</td></tr>\n",
       "\t<tr><th scope=row>2018</th><td>1115.6</td><td>1047.3</td><td>1294.6</td><td>1473.8</td><td>1687.4</td><td>1879.0</td><td>1932.0</td><td>1865.2</td><td>1691.0</td><td>1624.9</td><td>1284.0</td><td>1285.7</td></tr>\n",
       "\t<tr><th scope=row>2019</th><td>1169.3</td><td>1139.1</td><td>1375.4</td><td>1622.6</td><td>1744.0</td><td>1933.4</td><td>2006.9</td><td>1967.5</td><td>1757.4</td><td>1660.1</td><td>1279.1</td><td>1320.2</td></tr>\n",
       "\t<tr><th scope=row>2020</th><td>1183.5</td><td>1161.9</td><td> 575.6</td><td>  12.8</td><td>  24.7</td><td>  53.1</td><td> 239.0</td><td> 275.5</td><td> 203.5</td><td> 143.7</td><td>  85.1</td><td> 156.1</td></tr>\n",
       "</tbody>\n",
       "</table>\n"
      ],
      "text/latex": [
       "A Time Series: 11 × 12\n",
       "\\begin{tabular}{r|llllllllllll}\n",
       "  & Jan & Feb & Mar & Apr & May & Jun & Jul & Aug & Sep & Oct & Nov & Dec\\\\\n",
       "\\hline\n",
       "\t2010 &  732.4 &  757.2 &  919.6 &  709.5 &  977.9 & 1183.1 & 1269.5 & 1250.5 & 1078.7 & 1045.8 &  800.7 &  700.5\\\\\n",
       "\t2011 &  729.6 &  724.0 &  869.6 &  987.9 & 1084.2 & 1198.5 & 1288.0 & 1247.8 & 1070.3 &  978.7 &  774.3 &  754.3\\\\\n",
       "\t2012 &  700.5 &  706.9 &  874.8 &  972.6 & 1089.6 & 1222.3 & 1278.8 & 1244.2 & 1122.1 & 1041.3 &  804.1 &  782.4\\\\\n",
       "\t2013 &  709.5 &  698.7 &  937.3 &  972.3 & 1160.2 & 1292.1 & 1336.7 & 1314.3 & 1144.2 & 1079.9 &  836.5 &  832.7\\\\\n",
       "\t2014 &  764.7 &  742.8 &  892.5 & 1112.7 & 1223.8 & 1361.8 & 1418.4 & 1403.9 & 1231.2 & 1179.9 &  925.4 &  912.3\\\\\n",
       "\t2015 &  861.5 &  850.3 & 1063.4 & 1178.5 & 1359.9 & 1541.7 & 1600.0 & 1552.5 & 1368.8 & 1339.8 & 1055.4 & 1018.6\\\\\n",
       "\t2016 &  981.7 &  989.0 & 1236.5 & 1282.8 & 1475.7 & 1684.6 & 1738.7 & 1688.9 & 1498.6 & 1462.3 & 1134.9 & 1145.3\\\\\n",
       "\t2017 & 1057.1 & 1020.2 & 1227.7 & 1438.7 & 1530.6 & 1761.5 & 1828.6 & 1778.1 & 1583.6 & 1505.9 & 1203.5 & 1204.3\\\\\n",
       "\t2018 & 1115.6 & 1047.3 & 1294.6 & 1473.8 & 1687.4 & 1879.0 & 1932.0 & 1865.2 & 1691.0 & 1624.9 & 1284.0 & 1285.7\\\\\n",
       "\t2019 & 1169.3 & 1139.1 & 1375.4 & 1622.6 & 1744.0 & 1933.4 & 2006.9 & 1967.5 & 1757.4 & 1660.1 & 1279.1 & 1320.2\\\\\n",
       "\t2020 & 1183.5 & 1161.9 &  575.6 &   12.8 &   24.7 &   53.1 &  239.0 &  275.5 &  203.5 &  143.7 &   85.1 &  156.1\\\\\n",
       "\\end{tabular}\n"
      ],
      "text/markdown": [
       "\n",
       "A Time Series: 11 × 12\n",
       "\n",
       "| <!--/--> | Jan | Feb | Mar | Apr | May | Jun | Jul | Aug | Sep | Oct | Nov | Dec |\n",
       "|---|---|---|---|---|---|---|---|---|---|---|---|---|\n",
       "| 2010 |  732.4 |  757.2 |  919.6 |  709.5 |  977.9 | 1183.1 | 1269.5 | 1250.5 | 1078.7 | 1045.8 |  800.7 |  700.5 |\n",
       "| 2011 |  729.6 |  724.0 |  869.6 |  987.9 | 1084.2 | 1198.5 | 1288.0 | 1247.8 | 1070.3 |  978.7 |  774.3 |  754.3 |\n",
       "| 2012 |  700.5 |  706.9 |  874.8 |  972.6 | 1089.6 | 1222.3 | 1278.8 | 1244.2 | 1122.1 | 1041.3 |  804.1 |  782.4 |\n",
       "| 2013 |  709.5 |  698.7 |  937.3 |  972.3 | 1160.2 | 1292.1 | 1336.7 | 1314.3 | 1144.2 | 1079.9 |  836.5 |  832.7 |\n",
       "| 2014 |  764.7 |  742.8 |  892.5 | 1112.7 | 1223.8 | 1361.8 | 1418.4 | 1403.9 | 1231.2 | 1179.9 |  925.4 |  912.3 |\n",
       "| 2015 |  861.5 |  850.3 | 1063.4 | 1178.5 | 1359.9 | 1541.7 | 1600.0 | 1552.5 | 1368.8 | 1339.8 | 1055.4 | 1018.6 |\n",
       "| 2016 |  981.7 |  989.0 | 1236.5 | 1282.8 | 1475.7 | 1684.6 | 1738.7 | 1688.9 | 1498.6 | 1462.3 | 1134.9 | 1145.3 |\n",
       "| 2017 | 1057.1 | 1020.2 | 1227.7 | 1438.7 | 1530.6 | 1761.5 | 1828.6 | 1778.1 | 1583.6 | 1505.9 | 1203.5 | 1204.3 |\n",
       "| 2018 | 1115.6 | 1047.3 | 1294.6 | 1473.8 | 1687.4 | 1879.0 | 1932.0 | 1865.2 | 1691.0 | 1624.9 | 1284.0 | 1285.7 |\n",
       "| 2019 | 1169.3 | 1139.1 | 1375.4 | 1622.6 | 1744.0 | 1933.4 | 2006.9 | 1967.5 | 1757.4 | 1660.1 | 1279.1 | 1320.2 |\n",
       "| 2020 | 1183.5 | 1161.9 |  575.6 |   12.8 |   24.7 |   53.1 |  239.0 |  275.5 |  203.5 |  143.7 |   85.1 |  156.1 |\n",
       "\n"
      ],
      "text/plain": [
       "     Jan    Feb    Mar    Apr    May    Jun    Jul    Aug    Sep    Oct   \n",
       "2010  732.4  757.2  919.6  709.5  977.9 1183.1 1269.5 1250.5 1078.7 1045.8\n",
       "2011  729.6  724.0  869.6  987.9 1084.2 1198.5 1288.0 1247.8 1070.3  978.7\n",
       "2012  700.5  706.9  874.8  972.6 1089.6 1222.3 1278.8 1244.2 1122.1 1041.3\n",
       "2013  709.5  698.7  937.3  972.3 1160.2 1292.1 1336.7 1314.3 1144.2 1079.9\n",
       "2014  764.7  742.8  892.5 1112.7 1223.8 1361.8 1418.4 1403.9 1231.2 1179.9\n",
       "2015  861.5  850.3 1063.4 1178.5 1359.9 1541.7 1600.0 1552.5 1368.8 1339.8\n",
       "2016  981.7  989.0 1236.5 1282.8 1475.7 1684.6 1738.7 1688.9 1498.6 1462.3\n",
       "2017 1057.1 1020.2 1227.7 1438.7 1530.6 1761.5 1828.6 1778.1 1583.6 1505.9\n",
       "2018 1115.6 1047.3 1294.6 1473.8 1687.4 1879.0 1932.0 1865.2 1691.0 1624.9\n",
       "2019 1169.3 1139.1 1375.4 1622.6 1744.0 1933.4 2006.9 1967.5 1757.4 1660.1\n",
       "2020 1183.5 1161.9  575.6   12.8   24.7   53.1  239.0  275.5  203.5  143.7\n",
       "     Nov    Dec   \n",
       "2010  800.7  700.5\n",
       "2011  774.3  754.3\n",
       "2012  804.1  782.4\n",
       "2013  836.5  832.7\n",
       "2014  925.4  912.3\n",
       "2015 1055.4 1018.6\n",
       "2016 1134.9 1145.3\n",
       "2017 1203.5 1204.3\n",
       "2018 1284.0 1285.7\n",
       "2019 1279.1 1320.2\n",
       "2020   85.1  156.1"
      ]
     },
     "metadata": {},
     "output_type": "display_data"
    }
   ],
   "source": [
    "dat_ss_ts"
   ]
  },
  {
   "cell_type": "code",
   "execution_count": 110,
   "id": "b78a6c8e",
   "metadata": {},
   "outputs": [
    {
     "data": {
      "text/plain": [
       "Series: dat_ts \n",
       "ARIMA(2,0,0)(2,1,0)[12] \n",
       "\n",
       "Coefficients:\n",
       "         ar1      ar2     sar1     sar2\n",
       "      1.2607  -0.3219  -0.6186  -0.4416\n",
       "s.e.  0.0831   0.0831   0.1046   0.1052\n",
       "\n",
       "sigma^2 = 18924:  log likelihood = -916.3\n",
       "AIC=1842.6   AICc=1843.03   BIC=1857.45\n",
       "\n",
       "Training set error measures:\n",
       "                    ME     RMSE      MAE       MPE     MAPE      MASE\n",
       "Training set -1.175783 130.3193 62.05267 -32.17348 44.14329 0.2287141\n",
       "                   ACF1\n",
       "Training set -0.0144521"
      ]
     },
     "metadata": {},
     "output_type": "display_data"
    }
   ],
   "source": [
    "arima_model_ss <- auto.arima(dat_ss_ts)\n",
    "summary(arima_model)"
   ]
  },
  {
   "cell_type": "code",
   "execution_count": 111,
   "id": "c502e6f6",
   "metadata": {},
   "outputs": [
    {
     "data": {
      "text/html": [
       "104.603763540949"
      ],
      "text/latex": [
       "104.603763540949"
      ],
      "text/markdown": [
       "104.603763540949"
      ],
      "text/plain": [
       "[1] 104.6038"
      ]
     },
     "metadata": {},
     "output_type": "display_data"
    }
   ],
   "source": [
    "fore_arima_2020 = forecast::forecast(arima_model_ss, h=6)\n",
    "df_arima_2020 = as.data.frame(fore_arima_2020)\n",
    "mape(dat_ss$departure, df_arima_2020$`Point Forecast`)  "
   ]
  },
  {
   "cell_type": "code",
   "execution_count": 112,
   "id": "2f8564bf",
   "metadata": {},
   "outputs": [
    {
     "data": {
      "text/plain": [
       "         Point Forecast      Lo 80    Hi 80     Lo 95     Hi 95\n",
       "Jan 2021      104.45102  -32.29760 241.1996 -104.6879  313.5900\n",
       "Feb 2021       94.42005 -140.31922 329.1593 -264.5827  453.4228\n",
       "Mar 2021      168.66260 -147.82510 485.1503 -315.3636  652.6888\n",
       "Apr 2021      181.99907 -203.89695 567.8951 -408.1780  772.1761\n",
       "May 2021      312.76658 -133.51837 759.0515 -369.7673  995.3005\n",
       "Jun 2021      466.67672  -33.35045 966.7039 -298.0488 1231.4023"
      ]
     },
     "metadata": {},
     "output_type": "display_data"
    }
   ],
   "source": [
    "fore_arima_2020"
   ]
  },
  {
   "cell_type": "code",
   "execution_count": 113,
   "id": "bf1d3acf",
   "metadata": {},
   "outputs": [
    {
     "data": {
      "image/png": "[encoded data removed]",
      "text/plain": [
       "Plot with title \"Inverse MA roots\""
      ]
     },
     "metadata": {
      "image/png": {
       "height": 420,
       "width": 420
      }
     },
     "output_type": "display_data"
    }
   ],
   "source": [
    "plot(arima_model_ss)"
   ]
  },
  {
   "cell_type": "code",
   "execution_count": 114,
   "id": "861a9117",
   "metadata": {},
   "outputs": [
    {
     "data": {
      "text/plain": [
       "\n",
       "Forecast method: Simple exponential smoothing\n",
       "\n",
       "Model Information:\n",
       "Simple exponential smoothing \n",
       "\n",
       "Call:\n",
       " ses(y = dat_ss_ts, h = 6) \n",
       "\n",
       "  Smoothing parameters:\n",
       "    alpha = 0.9999 \n",
       "\n",
       "  Initial states:\n",
       "    l = 762.1407 \n",
       "\n",
       "  sigma:  160.168\n",
       "\n",
       "     AIC     AICc      BIC \n",
       "1988.638 1988.825 1997.286 \n",
       "\n",
       "Error measures:\n",
       "                    ME   RMSE      MAE       MPE     MAPE      MASE    ACF1\n",
       "Training set -4.591731 158.95 121.0752 -33.82374 46.29513 0.6276607 0.42505\n",
       "\n",
       "Forecasts:\n",
       "         Point Forecast      Lo 80    Hi 80     Lo 95    Hi 95\n",
       "Jan 2021       156.0929  -49.17071 361.3565 -157.8307 470.0165\n",
       "Feb 2021       156.0929 -134.17916 446.3650 -287.8399 600.0257\n",
       "Mar 2021       156.0929 -199.41038 511.5962 -387.6025 699.7882\n",
       "Apr 2021       156.0929 -254.40351 566.5893 -471.7072 783.8930\n",
       "May 2021       156.0929 -302.85374 615.0395 -545.8054 857.9912\n",
       "Jun 2021       156.0929 -346.65628 658.8421 -612.7956 924.9814"
      ]
     },
     "metadata": {},
     "output_type": "display_data"
    }
   ],
   "source": [
    "#Simple Exponential Smoothing\n",
    "\n",
    "se_model_ss <- ses(dat_ss_ts, h = 6)\n",
    "summary(se_model_ss)"
   ]
  },
  {
   "cell_type": "code",
   "execution_count": null,
   "id": "d58df865",
   "metadata": {},
   "outputs": [],
   "source": []
  },
  {
   "cell_type": "code",
   "execution_count": null,
   "id": "6b312adc",
   "metadata": {},
   "outputs": [],
   "source": []
  },
  {
   "cell_type": "code",
   "execution_count": null,
   "id": "d771e246",
   "metadata": {},
   "outputs": [],
   "source": []
  },
  {
   "cell_type": "code",
   "execution_count": null,
   "id": "e1ba7f26",
   "metadata": {},
   "outputs": [],
   "source": []
  }
 ],
 "metadata": {
  "kernelspec": {
   "display_name": "R",
   "language": "R",
   "name": "ir"
  },
  "language_info": {
   "codemirror_mode": "r",
   "file_extension": ".r",
   "mimetype": "text/x-r-source",
   "name": "R",
   "pygments_lexer": "r",
   "version": "4.2.1"
  }
 },
 "nbformat": 4,
 "nbformat_minor": 5
}
